{
 "cells": [
  {
   "cell_type": "markdown",
   "id": "d02bb57d",
   "metadata": {},
   "source": [
    "## Associative Rule Mining on Paasenger Data from TItanic Ship "
   ]
  },
  {
   "cell_type": "markdown",
   "id": "74c4081d",
   "metadata": {},
   "source": [
    "The sinking of the RMS Titanic is one of the most infamous shipwrecks in history. On April 15, 1912, during her maiden voyage, the Titanic sank after colliding with an iceberg, killing 1502 out of 2224 passengers and crew. This sensational tragedy shocked the international community and led to better safety regulations for ships."
   ]
  },
  {
   "cell_type": "markdown",
   "id": "3d2d68e0",
   "metadata": {},
   "source": [
    "One of the reasons that the shipwreck led to such loss of life was that there were not enough lifeboats for the passengers and crew. Although there was some element of luck involved in surviving the sinking, some groups of people were more likely to survive than others, such as women, children, and the upper-class."
   ]
  },
  {
   "cell_type": "markdown",
   "id": "7ef39bf1",
   "metadata": {},
   "source": [
    "The objective of this analysis is to check what category of people were likely to survive. In particular, applying the Association Rule mining to predict which passengers survived from the tragedy."
   ]
  },
  {
   "cell_type": "code",
   "execution_count": null,
   "id": "9a60e6dd",
   "metadata": {},
   "outputs": [],
   "source": [
    "#Install Apriori Algorithm\n",
    "!pip install apyori"
   ]
  },
  {
   "cell_type": "code",
   "execution_count": 22,
   "id": "92cb47a3",
   "metadata": {},
   "outputs": [],
   "source": [
    "#Import Apriori Algorithm.\n",
    "from apyori import apriori\n",
    "\n",
    "#Import panda to work with Dataframes.\n",
    "import pandas as pd\n",
    "\n",
    "#Import raw python utility codebase\n",
    "import utils\n",
    "\n",
    "#Import Matplotlib\n",
    "import matplotlib.pyplot as plt"
   ]
  },
  {
   "cell_type": "code",
   "execution_count": 2,
   "id": "864ad845",
   "metadata": {
    "scrolled": false
   },
   "outputs": [
    {
     "data": {
      "text/html": [
       "<div>\n",
       "<style scoped>\n",
       "    .dataframe tbody tr th:only-of-type {\n",
       "        vertical-align: middle;\n",
       "    }\n",
       "\n",
       "    .dataframe tbody tr th {\n",
       "        vertical-align: top;\n",
       "    }\n",
       "\n",
       "    .dataframe thead th {\n",
       "        text-align: right;\n",
       "    }\n",
       "</style>\n",
       "<table border=\"1\" class=\"dataframe\">\n",
       "  <thead>\n",
       "    <tr style=\"text-align: right;\">\n",
       "      <th></th>\n",
       "      <th>Age_Adult</th>\n",
       "      <th>Age_Child</th>\n",
       "      <th>Sex_Female</th>\n",
       "      <th>Sex_Male</th>\n",
       "      <th>Survived</th>\n",
       "      <th>Crew_Member</th>\n",
       "      <th>First_class</th>\n",
       "      <th>Second_class</th>\n",
       "      <th>Third_class</th>\n",
       "    </tr>\n",
       "  </thead>\n",
       "  <tbody>\n",
       "    <tr>\n",
       "      <th>0</th>\n",
       "      <td>Yes</td>\n",
       "      <td>No</td>\n",
       "      <td>Yes</td>\n",
       "      <td>No</td>\n",
       "      <td>No</td>\n",
       "      <td>Yes</td>\n",
       "      <td>No</td>\n",
       "      <td>No</td>\n",
       "      <td>No</td>\n",
       "    </tr>\n",
       "    <tr>\n",
       "      <th>1</th>\n",
       "      <td>Yes</td>\n",
       "      <td>No</td>\n",
       "      <td>Yes</td>\n",
       "      <td>No</td>\n",
       "      <td>No</td>\n",
       "      <td>Yes</td>\n",
       "      <td>No</td>\n",
       "      <td>No</td>\n",
       "      <td>No</td>\n",
       "    </tr>\n",
       "    <tr>\n",
       "      <th>2</th>\n",
       "      <td>Yes</td>\n",
       "      <td>No</td>\n",
       "      <td>Yes</td>\n",
       "      <td>No</td>\n",
       "      <td>No</td>\n",
       "      <td>Yes</td>\n",
       "      <td>No</td>\n",
       "      <td>No</td>\n",
       "      <td>No</td>\n",
       "    </tr>\n",
       "    <tr>\n",
       "      <th>3</th>\n",
       "      <td>Yes</td>\n",
       "      <td>No</td>\n",
       "      <td>Yes</td>\n",
       "      <td>No</td>\n",
       "      <td>Yes</td>\n",
       "      <td>Yes</td>\n",
       "      <td>No</td>\n",
       "      <td>No</td>\n",
       "      <td>No</td>\n",
       "    </tr>\n",
       "    <tr>\n",
       "      <th>4</th>\n",
       "      <td>Yes</td>\n",
       "      <td>No</td>\n",
       "      <td>Yes</td>\n",
       "      <td>No</td>\n",
       "      <td>Yes</td>\n",
       "      <td>Yes</td>\n",
       "      <td>No</td>\n",
       "      <td>No</td>\n",
       "      <td>No</td>\n",
       "    </tr>\n",
       "    <tr>\n",
       "      <th>...</th>\n",
       "      <td>...</td>\n",
       "      <td>...</td>\n",
       "      <td>...</td>\n",
       "      <td>...</td>\n",
       "      <td>...</td>\n",
       "      <td>...</td>\n",
       "      <td>...</td>\n",
       "      <td>...</td>\n",
       "      <td>...</td>\n",
       "    </tr>\n",
       "    <tr>\n",
       "      <th>2196</th>\n",
       "      <td>Yes</td>\n",
       "      <td>No</td>\n",
       "      <td>No</td>\n",
       "      <td>Yes</td>\n",
       "      <td>Yes</td>\n",
       "      <td>No</td>\n",
       "      <td>No</td>\n",
       "      <td>No</td>\n",
       "      <td>Yes</td>\n",
       "    </tr>\n",
       "    <tr>\n",
       "      <th>2197</th>\n",
       "      <td>Yes</td>\n",
       "      <td>No</td>\n",
       "      <td>No</td>\n",
       "      <td>Yes</td>\n",
       "      <td>Yes</td>\n",
       "      <td>No</td>\n",
       "      <td>No</td>\n",
       "      <td>No</td>\n",
       "      <td>Yes</td>\n",
       "    </tr>\n",
       "    <tr>\n",
       "      <th>2198</th>\n",
       "      <td>Yes</td>\n",
       "      <td>No</td>\n",
       "      <td>No</td>\n",
       "      <td>Yes</td>\n",
       "      <td>Yes</td>\n",
       "      <td>No</td>\n",
       "      <td>No</td>\n",
       "      <td>No</td>\n",
       "      <td>Yes</td>\n",
       "    </tr>\n",
       "    <tr>\n",
       "      <th>2199</th>\n",
       "      <td>Yes</td>\n",
       "      <td>No</td>\n",
       "      <td>No</td>\n",
       "      <td>Yes</td>\n",
       "      <td>Yes</td>\n",
       "      <td>No</td>\n",
       "      <td>No</td>\n",
       "      <td>No</td>\n",
       "      <td>Yes</td>\n",
       "    </tr>\n",
       "    <tr>\n",
       "      <th>2200</th>\n",
       "      <td>Yes</td>\n",
       "      <td>No</td>\n",
       "      <td>No</td>\n",
       "      <td>Yes</td>\n",
       "      <td>Yes</td>\n",
       "      <td>No</td>\n",
       "      <td>No</td>\n",
       "      <td>No</td>\n",
       "      <td>Yes</td>\n",
       "    </tr>\n",
       "  </tbody>\n",
       "</table>\n",
       "<p>2201 rows × 9 columns</p>\n",
       "</div>"
      ],
      "text/plain": [
       "     Age_Adult Age_Child Sex_Female Sex_Male Survived Crew_Member First_class  \\\n",
       "0          Yes        No        Yes       No       No         Yes          No   \n",
       "1          Yes        No        Yes       No       No         Yes          No   \n",
       "2          Yes        No        Yes       No       No         Yes          No   \n",
       "3          Yes        No        Yes       No      Yes         Yes          No   \n",
       "4          Yes        No        Yes       No      Yes         Yes          No   \n",
       "...        ...       ...        ...      ...      ...         ...         ...   \n",
       "2196       Yes        No         No      Yes      Yes          No          No   \n",
       "2197       Yes        No         No      Yes      Yes          No          No   \n",
       "2198       Yes        No         No      Yes      Yes          No          No   \n",
       "2199       Yes        No         No      Yes      Yes          No          No   \n",
       "2200       Yes        No         No      Yes      Yes          No          No   \n",
       "\n",
       "     Second_class Third_class  \n",
       "0              No          No  \n",
       "1              No          No  \n",
       "2              No          No  \n",
       "3              No          No  \n",
       "4              No          No  \n",
       "...           ...         ...  \n",
       "2196           No         Yes  \n",
       "2197           No         Yes  \n",
       "2198           No         Yes  \n",
       "2199           No         Yes  \n",
       "2200           No         Yes  \n",
       "\n",
       "[2201 rows x 9 columns]"
      ]
     },
     "execution_count": 2,
     "metadata": {},
     "output_type": "execute_result"
    }
   ],
   "source": [
    "#Import Titanic Dataset\n",
    "titanicData = pd.read_csv('titanic_preprocessed.csv')\n",
    "titanicData"
   ]
  },
  {
   "cell_type": "markdown",
   "id": "36651469",
   "metadata": {},
   "source": [
    "The Dataset above provides specific attributes; Age, Gender, Survival, Crew and Passenger Status, for  all the passengers aboard the Titanic. "
   ]
  },
  {
   "cell_type": "code",
   "execution_count": 21,
   "id": "f527c058",
   "metadata": {
    "scrolled": false
   },
   "outputs": [
    {
     "data": {
      "text/html": [
       "<div>\n",
       "<style scoped>\n",
       "    .dataframe tbody tr th:only-of-type {\n",
       "        vertical-align: middle;\n",
       "    }\n",
       "\n",
       "    .dataframe tbody tr th {\n",
       "        vertical-align: top;\n",
       "    }\n",
       "\n",
       "    .dataframe thead th {\n",
       "        text-align: right;\n",
       "    }\n",
       "</style>\n",
       "<table border=\"1\" class=\"dataframe\">\n",
       "  <thead>\n",
       "    <tr style=\"text-align: right;\">\n",
       "      <th></th>\n",
       "      <th>Age_Adult</th>\n",
       "      <th>Age_Child</th>\n",
       "      <th>Sex_Female</th>\n",
       "      <th>Sex_Male</th>\n",
       "      <th>Survived</th>\n",
       "      <th>Crew_Member</th>\n",
       "      <th>First_class</th>\n",
       "      <th>Second_class</th>\n",
       "      <th>Third_class</th>\n",
       "    </tr>\n",
       "  </thead>\n",
       "  <tbody>\n",
       "    <tr>\n",
       "      <th>count</th>\n",
       "      <td>2201</td>\n",
       "      <td>2201</td>\n",
       "      <td>2201</td>\n",
       "      <td>2201</td>\n",
       "      <td>2201</td>\n",
       "      <td>2201</td>\n",
       "      <td>2201</td>\n",
       "      <td>2201</td>\n",
       "      <td>2201</td>\n",
       "    </tr>\n",
       "    <tr>\n",
       "      <th>unique</th>\n",
       "      <td>2</td>\n",
       "      <td>2</td>\n",
       "      <td>2</td>\n",
       "      <td>2</td>\n",
       "      <td>2</td>\n",
       "      <td>2</td>\n",
       "      <td>2</td>\n",
       "      <td>2</td>\n",
       "      <td>2</td>\n",
       "    </tr>\n",
       "    <tr>\n",
       "      <th>top</th>\n",
       "      <td>Yes</td>\n",
       "      <td>No</td>\n",
       "      <td>No</td>\n",
       "      <td>Yes</td>\n",
       "      <td>No</td>\n",
       "      <td>No</td>\n",
       "      <td>No</td>\n",
       "      <td>No</td>\n",
       "      <td>No</td>\n",
       "    </tr>\n",
       "    <tr>\n",
       "      <th>freq</th>\n",
       "      <td>2092</td>\n",
       "      <td>2092</td>\n",
       "      <td>1731</td>\n",
       "      <td>1731</td>\n",
       "      <td>1490</td>\n",
       "      <td>1316</td>\n",
       "      <td>1876</td>\n",
       "      <td>1916</td>\n",
       "      <td>1495</td>\n",
       "    </tr>\n",
       "  </tbody>\n",
       "</table>\n",
       "</div>"
      ],
      "text/plain": [
       "       Age_Adult Age_Child Sex_Female Sex_Male Survived Crew_Member  \\\n",
       "count       2201      2201       2201     2201     2201        2201   \n",
       "unique         2         2          2        2        2           2   \n",
       "top          Yes        No         No      Yes       No          No   \n",
       "freq        2092      2092       1731     1731     1490        1316   \n",
       "\n",
       "       First_class Second_class Third_class  \n",
       "count         2201         2201        2201  \n",
       "unique           2            2           2  \n",
       "top             No           No          No  \n",
       "freq          1876         1916        1495  "
      ]
     },
     "execution_count": 21,
     "metadata": {},
     "output_type": "execute_result"
    }
   ],
   "source": [
    "titanicData.describe()"
   ]
  },
  {
   "cell_type": "code",
   "execution_count": 36,
   "id": "184213d9",
   "metadata": {},
   "outputs": [
    {
     "data": {
      "image/png": "[encoded data removed]",
      "text/plain": [
       "<Figure size 432x288 with 1 Axes>"
      ]
     },
     "metadata": {},
     "output_type": "display_data"
    }
   ],
   "source": [
    "Survival_List = titanicData.Survived.value_counts()\n",
    "Survival_List\n",
    "\n",
    "plt.pie(Survival_List, labels = [\"Did not Survive\", \"Survived\"], \n",
    "        explode=[0.0, 0.1], \n",
    "        colors = ['#cd1041', '#00215a'],\n",
    "        autopct='%1.1f%%'\n",
    "       )\n",
    "plt.title('Chart Showing Percentage of Passengers that survived the Wreck')\n",
    "plt.legend()\n",
    "plt.show()\n"
   ]
  },
  {
   "cell_type": "code",
   "execution_count": 3,
   "id": "8cfb6f09",
   "metadata": {},
   "outputs": [
    {
     "data": {
      "text/plain": [
       "[['Age_Adult', 'Sex_Female', 'Crew_Member'],\n",
       " ['Age_Adult', 'Sex_Female', 'Crew_Member'],\n",
       " ['Age_Adult', 'Sex_Female', 'Crew_Member'],\n",
       " ['Age_Adult', 'Sex_Female', 'Survived', 'Crew_Member'],\n",
       " ['Age_Adult', 'Sex_Female', 'Survived', 'Crew_Member'],\n",
       " ['Age_Adult', 'Sex_Female', 'Survived', 'Crew_Member'],\n",
       " ['Age_Adult', 'Sex_Female', 'Survived', 'Crew_Member'],\n",
       " ['Age_Adult', 'Sex_Female', 'Survived', 'Crew_Member'],\n",
       " ['Age_Adult', 'Sex_Female', 'Survived', 'Crew_Member'],\n",
       " ['Age_Adult', 'Sex_Female', 'Survived', 'Crew_Member'],\n",
       " ['Age_Adult', 'Sex_Female', 'Survived', 'Crew_Member'],\n",
       " ['Age_Adult', 'Sex_Female', 'Survived', 'Crew_Member'],\n",
       " ['Age_Adult', 'Sex_Female', 'Survived', 'Crew_Member'],\n",
       " ['Age_Adult', 'Sex_Female', 'Survived', 'Crew_Member'],\n",
       " ['Age_Adult', 'Sex_Female', 'Survived', 'Crew_Member'],\n",
       " ['Age_Adult', 'Sex_Female', 'Survived', 'Crew_Member'],\n",
       " ['Age_Adult', 'Sex_Female', 'Survived', 'Crew_Member'],\n",
       " ['Age_Adult', 'Sex_Female', 'Survived', 'Crew_Member'],\n",
       " ['Age_Adult', 'Sex_Female', 'Survived', 'Crew_Member'],\n",
       " ['Age_Adult', 'Sex_Female', 'Survived', 'Crew_Member'],\n",
       " ['Age_Adult', 'Sex_Female', 'Survived', 'Crew_Member'],\n",
       " ['Age_Adult', 'Sex_Female', 'Survived', 'Crew_Member'],\n",
       " ['Age_Adult', 'Sex_Female', 'Survived', 'Crew_Member'],\n",
       " ['Age_Adult', 'Sex_Male', 'Crew_Member'],\n",
       " ['Age_Adult', 'Sex_Male', 'Crew_Member'],\n",
       " ['Age_Adult', 'Sex_Male', 'Crew_Member'],\n",
       " ['Age_Adult', 'Sex_Male', 'Crew_Member'],\n",
       " ['Age_Adult', 'Sex_Male', 'Crew_Member'],\n",
       " ['Age_Adult', 'Sex_Male', 'Crew_Member'],\n",
       " ['Age_Adult', 'Sex_Male', 'Crew_Member'],\n",
       " ['Age_Adult', 'Sex_Male', 'Crew_Member'],\n",
       " ['Age_Adult', 'Sex_Male', 'Crew_Member'],\n",
       " ['Age_Adult', 'Sex_Male', 'Crew_Member'],\n",
       " ['Age_Adult', 'Sex_Male', 'Crew_Member'],\n",
       " ['Age_Adult', 'Sex_Male', 'Crew_Member'],\n",
       " ['Age_Adult', 'Sex_Male', 'Crew_Member'],\n",
       " ['Age_Adult', 'Sex_Male', 'Crew_Member'],\n",
       " ['Age_Adult', 'Sex_Male', 'Crew_Member'],\n",
       " ['Age_Adult', 'Sex_Male', 'Crew_Member'],\n",
       " ['Age_Adult', 'Sex_Male', 'Crew_Member'],\n",
       " ['Age_Adult', 'Sex_Male', 'Crew_Member'],\n",
       " ['Age_Adult', 'Sex_Male', 'Crew_Member'],\n",
       " ['Age_Adult', 'Sex_Male', 'Crew_Member'],\n",
       " ['Age_Adult', 'Sex_Male', 'Crew_Member'],\n",
       " ['Age_Adult', 'Sex_Male', 'Crew_Member'],\n",
       " ['Age_Adult', 'Sex_Male', 'Crew_Member'],\n",
       " ['Age_Adult', 'Sex_Male', 'Crew_Member'],\n",
       " ['Age_Adult', 'Sex_Male', 'Crew_Member'],\n",
       " ['Age_Adult', 'Sex_Male', 'Crew_Member'],\n",
       " ['Age_Adult', 'Sex_Male', 'Crew_Member'],\n",
       " ['Age_Adult', 'Sex_Male', 'Crew_Member'],\n",
       " ['Age_Adult', 'Sex_Male', 'Crew_Member'],\n",
       " ['Age_Adult', 'Sex_Male', 'Crew_Member'],\n",
       " ['Age_Adult', 'Sex_Male', 'Crew_Member'],\n",
       " ['Age_Adult', 'Sex_Male', 'Crew_Member'],\n",
       " ['Age_Adult', 'Sex_Male', 'Crew_Member'],\n",
       " ['Age_Adult', 'Sex_Male', 'Crew_Member'],\n",
       " ['Age_Adult', 'Sex_Male', 'Crew_Member'],\n",
       " ['Age_Adult', 'Sex_Male', 'Crew_Member'],\n",
       " ['Age_Adult', 'Sex_Male', 'Crew_Member'],\n",
       " ['Age_Adult', 'Sex_Male', 'Crew_Member'],\n",
       " ['Age_Adult', 'Sex_Male', 'Crew_Member'],\n",
       " ['Age_Adult', 'Sex_Male', 'Crew_Member'],\n",
       " ['Age_Adult', 'Sex_Male', 'Crew_Member'],\n",
       " ['Age_Adult', 'Sex_Male', 'Crew_Member'],\n",
       " ['Age_Adult', 'Sex_Male', 'Crew_Member'],\n",
       " ['Age_Adult', 'Sex_Male', 'Crew_Member'],\n",
       " ['Age_Adult', 'Sex_Male', 'Crew_Member'],\n",
       " ['Age_Adult', 'Sex_Male', 'Crew_Member'],\n",
       " ['Age_Adult', 'Sex_Male', 'Crew_Member'],\n",
       " ['Age_Adult', 'Sex_Male', 'Crew_Member'],\n",
       " ['Age_Adult', 'Sex_Male', 'Crew_Member'],\n",
       " ['Age_Adult', 'Sex_Male', 'Crew_Member'],\n",
       " ['Age_Adult', 'Sex_Male', 'Crew_Member'],\n",
       " ['Age_Adult', 'Sex_Male', 'Crew_Member'],\n",
       " ['Age_Adult', 'Sex_Male', 'Crew_Member'],\n",
       " ['Age_Adult', 'Sex_Male', 'Crew_Member'],\n",
       " ['Age_Adult', 'Sex_Male', 'Crew_Member'],\n",
       " ['Age_Adult', 'Sex_Male', 'Crew_Member'],\n",
       " ['Age_Adult', 'Sex_Male', 'Crew_Member'],\n",
       " ['Age_Adult', 'Sex_Male', 'Crew_Member'],\n",
       " ['Age_Adult', 'Sex_Male', 'Crew_Member'],\n",
       " ['Age_Adult', 'Sex_Male', 'Crew_Member'],\n",
       " ['Age_Adult', 'Sex_Male', 'Crew_Member'],\n",
       " ['Age_Adult', 'Sex_Male', 'Crew_Member'],\n",
       " ['Age_Adult', 'Sex_Male', 'Crew_Member'],\n",
       " ['Age_Adult', 'Sex_Male', 'Crew_Member'],\n",
       " ['Age_Adult', 'Sex_Male', 'Crew_Member'],\n",
       " ['Age_Adult', 'Sex_Male', 'Crew_Member'],\n",
       " ['Age_Adult', 'Sex_Male', 'Crew_Member'],\n",
       " ['Age_Adult', 'Sex_Male', 'Crew_Member'],\n",
       " ['Age_Adult', 'Sex_Male', 'Crew_Member'],\n",
       " ['Age_Adult', 'Sex_Male', 'Crew_Member'],\n",
       " ['Age_Adult', 'Sex_Male', 'Crew_Member'],\n",
       " ['Age_Adult', 'Sex_Male', 'Crew_Member'],\n",
       " ['Age_Adult', 'Sex_Male', 'Crew_Member'],\n",
       " ['Age_Adult', 'Sex_Male', 'Crew_Member'],\n",
       " ['Age_Adult', 'Sex_Male', 'Crew_Member'],\n",
       " ['Age_Adult', 'Sex_Male', 'Crew_Member'],\n",
       " ['Age_Adult', 'Sex_Male', 'Crew_Member'],\n",
       " ['Age_Adult', 'Sex_Male', 'Crew_Member'],\n",
       " ['Age_Adult', 'Sex_Male', 'Crew_Member'],\n",
       " ['Age_Adult', 'Sex_Male', 'Crew_Member'],\n",
       " ['Age_Adult', 'Sex_Male', 'Crew_Member'],\n",
       " ['Age_Adult', 'Sex_Male', 'Crew_Member'],\n",
       " ['Age_Adult', 'Sex_Male', 'Crew_Member'],\n",
       " ['Age_Adult', 'Sex_Male', 'Crew_Member'],\n",
       " ['Age_Adult', 'Sex_Male', 'Crew_Member'],\n",
       " ['Age_Adult', 'Sex_Male', 'Crew_Member'],\n",
       " ['Age_Adult', 'Sex_Male', 'Crew_Member'],\n",
       " ['Age_Adult', 'Sex_Male', 'Crew_Member'],\n",
       " ['Age_Adult', 'Sex_Male', 'Crew_Member'],\n",
       " ['Age_Adult', 'Sex_Male', 'Crew_Member'],\n",
       " ['Age_Adult', 'Sex_Male', 'Crew_Member'],\n",
       " ['Age_Adult', 'Sex_Male', 'Crew_Member'],\n",
       " ['Age_Adult', 'Sex_Male', 'Crew_Member'],\n",
       " ['Age_Adult', 'Sex_Male', 'Crew_Member'],\n",
       " ['Age_Adult', 'Sex_Male', 'Crew_Member'],\n",
       " ['Age_Adult', 'Sex_Male', 'Crew_Member'],\n",
       " ['Age_Adult', 'Sex_Male', 'Crew_Member'],\n",
       " ['Age_Adult', 'Sex_Male', 'Crew_Member'],\n",
       " ['Age_Adult', 'Sex_Male', 'Crew_Member'],\n",
       " ['Age_Adult', 'Sex_Male', 'Crew_Member'],\n",
       " ['Age_Adult', 'Sex_Male', 'Crew_Member'],\n",
       " ['Age_Adult', 'Sex_Male', 'Crew_Member'],\n",
       " ['Age_Adult', 'Sex_Male', 'Crew_Member'],\n",
       " ['Age_Adult', 'Sex_Male', 'Crew_Member'],\n",
       " ['Age_Adult', 'Sex_Male', 'Crew_Member'],\n",
       " ['Age_Adult', 'Sex_Male', 'Crew_Member'],\n",
       " ['Age_Adult', 'Sex_Male', 'Crew_Member'],\n",
       " ['Age_Adult', 'Sex_Male', 'Crew_Member'],\n",
       " ['Age_Adult', 'Sex_Male', 'Crew_Member'],\n",
       " ['Age_Adult', 'Sex_Male', 'Crew_Member'],\n",
       " ['Age_Adult', 'Sex_Male', 'Crew_Member'],\n",
       " ['Age_Adult', 'Sex_Male', 'Crew_Member'],\n",
       " ['Age_Adult', 'Sex_Male', 'Crew_Member'],\n",
       " ['Age_Adult', 'Sex_Male', 'Crew_Member'],\n",
       " ['Age_Adult', 'Sex_Male', 'Crew_Member'],\n",
       " ['Age_Adult', 'Sex_Male', 'Crew_Member'],\n",
       " ['Age_Adult', 'Sex_Male', 'Crew_Member'],\n",
       " ['Age_Adult', 'Sex_Male', 'Crew_Member'],\n",
       " ['Age_Adult', 'Sex_Male', 'Crew_Member'],\n",
       " ['Age_Adult', 'Sex_Male', 'Crew_Member'],\n",
       " ['Age_Adult', 'Sex_Male', 'Crew_Member'],\n",
       " ['Age_Adult', 'Sex_Male', 'Crew_Member'],\n",
       " ['Age_Adult', 'Sex_Male', 'Crew_Member'],\n",
       " ['Age_Adult', 'Sex_Male', 'Crew_Member'],\n",
       " ['Age_Adult', 'Sex_Male', 'Crew_Member'],\n",
       " ['Age_Adult', 'Sex_Male', 'Crew_Member'],\n",
       " ['Age_Adult', 'Sex_Male', 'Crew_Member'],\n",
       " ['Age_Adult', 'Sex_Male', 'Crew_Member'],\n",
       " ['Age_Adult', 'Sex_Male', 'Crew_Member'],\n",
       " ['Age_Adult', 'Sex_Male', 'Crew_Member'],\n",
       " ['Age_Adult', 'Sex_Male', 'Crew_Member'],\n",
       " ['Age_Adult', 'Sex_Male', 'Crew_Member'],\n",
       " ['Age_Adult', 'Sex_Male', 'Crew_Member'],\n",
       " ['Age_Adult', 'Sex_Male', 'Crew_Member'],\n",
       " ['Age_Adult', 'Sex_Male', 'Crew_Member'],\n",
       " ['Age_Adult', 'Sex_Male', 'Crew_Member'],\n",
       " ['Age_Adult', 'Sex_Male', 'Crew_Member'],\n",
       " ['Age_Adult', 'Sex_Male', 'Crew_Member'],\n",
       " ['Age_Adult', 'Sex_Male', 'Crew_Member'],\n",
       " ['Age_Adult', 'Sex_Male', 'Crew_Member'],\n",
       " ['Age_Adult', 'Sex_Male', 'Crew_Member'],\n",
       " ['Age_Adult', 'Sex_Male', 'Crew_Member'],\n",
       " ['Age_Adult', 'Sex_Male', 'Crew_Member'],\n",
       " ['Age_Adult', 'Sex_Male', 'Crew_Member'],\n",
       " ['Age_Adult', 'Sex_Male', 'Crew_Member'],\n",
       " ['Age_Adult', 'Sex_Male', 'Crew_Member'],\n",
       " ['Age_Adult', 'Sex_Male', 'Crew_Member'],\n",
       " ['Age_Adult', 'Sex_Male', 'Crew_Member'],\n",
       " ['Age_Adult', 'Sex_Male', 'Crew_Member'],\n",
       " ['Age_Adult', 'Sex_Male', 'Crew_Member'],\n",
       " ['Age_Adult', 'Sex_Male', 'Crew_Member'],\n",
       " ['Age_Adult', 'Sex_Male', 'Crew_Member'],\n",
       " ['Age_Adult', 'Sex_Male', 'Crew_Member'],\n",
       " ['Age_Adult', 'Sex_Male', 'Crew_Member'],\n",
       " ['Age_Adult', 'Sex_Male', 'Crew_Member'],\n",
       " ['Age_Adult', 'Sex_Male', 'Crew_Member'],\n",
       " ['Age_Adult', 'Sex_Male', 'Crew_Member'],\n",
       " ['Age_Adult', 'Sex_Male', 'Crew_Member'],\n",
       " ['Age_Adult', 'Sex_Male', 'Crew_Member'],\n",
       " ['Age_Adult', 'Sex_Male', 'Crew_Member'],\n",
       " ['Age_Adult', 'Sex_Male', 'Crew_Member'],\n",
       " ['Age_Adult', 'Sex_Male', 'Crew_Member'],\n",
       " ['Age_Adult', 'Sex_Male', 'Crew_Member'],\n",
       " ['Age_Adult', 'Sex_Male', 'Crew_Member'],\n",
       " ['Age_Adult', 'Sex_Male', 'Crew_Member'],\n",
       " ['Age_Adult', 'Sex_Male', 'Crew_Member'],\n",
       " ['Age_Adult', 'Sex_Male', 'Crew_Member'],\n",
       " ['Age_Adult', 'Sex_Male', 'Crew_Member'],\n",
       " ['Age_Adult', 'Sex_Male', 'Crew_Member'],\n",
       " ['Age_Adult', 'Sex_Male', 'Crew_Member'],\n",
       " ['Age_Adult', 'Sex_Male', 'Crew_Member'],\n",
       " ['Age_Adult', 'Sex_Male', 'Crew_Member'],\n",
       " ['Age_Adult', 'Sex_Male', 'Crew_Member'],\n",
       " ['Age_Adult', 'Sex_Male', 'Crew_Member'],\n",
       " ['Age_Adult', 'Sex_Male', 'Crew_Member'],\n",
       " ['Age_Adult', 'Sex_Male', 'Crew_Member'],\n",
       " ['Age_Adult', 'Sex_Male', 'Crew_Member'],\n",
       " ['Age_Adult', 'Sex_Male', 'Crew_Member'],\n",
       " ['Age_Adult', 'Sex_Male', 'Crew_Member'],\n",
       " ['Age_Adult', 'Sex_Male', 'Crew_Member'],\n",
       " ['Age_Adult', 'Sex_Male', 'Crew_Member'],\n",
       " ['Age_Adult', 'Sex_Male', 'Crew_Member'],\n",
       " ['Age_Adult', 'Sex_Male', 'Crew_Member'],\n",
       " ['Age_Adult', 'Sex_Male', 'Crew_Member'],\n",
       " ['Age_Adult', 'Sex_Male', 'Crew_Member'],\n",
       " ['Age_Adult', 'Sex_Male', 'Crew_Member'],\n",
       " ['Age_Adult', 'Sex_Male', 'Crew_Member'],\n",
       " ['Age_Adult', 'Sex_Male', 'Crew_Member'],\n",
       " ['Age_Adult', 'Sex_Male', 'Crew_Member'],\n",
       " ['Age_Adult', 'Sex_Male', 'Crew_Member'],\n",
       " ['Age_Adult', 'Sex_Male', 'Crew_Member'],\n",
       " ['Age_Adult', 'Sex_Male', 'Crew_Member'],\n",
       " ['Age_Adult', 'Sex_Male', 'Crew_Member'],\n",
       " ['Age_Adult', 'Sex_Male', 'Crew_Member'],\n",
       " ['Age_Adult', 'Sex_Male', 'Crew_Member'],\n",
       " ['Age_Adult', 'Sex_Male', 'Crew_Member'],\n",
       " ['Age_Adult', 'Sex_Male', 'Crew_Member'],\n",
       " ['Age_Adult', 'Sex_Male', 'Crew_Member'],\n",
       " ['Age_Adult', 'Sex_Male', 'Crew_Member'],\n",
       " ['Age_Adult', 'Sex_Male', 'Crew_Member'],\n",
       " ['Age_Adult', 'Sex_Male', 'Crew_Member'],\n",
       " ['Age_Adult', 'Sex_Male', 'Crew_Member'],\n",
       " ['Age_Adult', 'Sex_Male', 'Crew_Member'],\n",
       " ['Age_Adult', 'Sex_Male', 'Crew_Member'],\n",
       " ['Age_Adult', 'Sex_Male', 'Crew_Member'],\n",
       " ['Age_Adult', 'Sex_Male', 'Crew_Member'],\n",
       " ['Age_Adult', 'Sex_Male', 'Crew_Member'],\n",
       " ['Age_Adult', 'Sex_Male', 'Crew_Member'],\n",
       " ['Age_Adult', 'Sex_Male', 'Crew_Member'],\n",
       " ['Age_Adult', 'Sex_Male', 'Crew_Member'],\n",
       " ['Age_Adult', 'Sex_Male', 'Crew_Member'],\n",
       " ['Age_Adult', 'Sex_Male', 'Crew_Member'],\n",
       " ['Age_Adult', 'Sex_Male', 'Crew_Member'],\n",
       " ['Age_Adult', 'Sex_Male', 'Crew_Member'],\n",
       " ['Age_Adult', 'Sex_Male', 'Crew_Member'],\n",
       " ['Age_Adult', 'Sex_Male', 'Crew_Member'],\n",
       " ['Age_Adult', 'Sex_Male', 'Crew_Member'],\n",
       " ['Age_Adult', 'Sex_Male', 'Crew_Member'],\n",
       " ['Age_Adult', 'Sex_Male', 'Crew_Member'],\n",
       " ['Age_Adult', 'Sex_Male', 'Crew_Member'],\n",
       " ['Age_Adult', 'Sex_Male', 'Crew_Member'],\n",
       " ['Age_Adult', 'Sex_Male', 'Crew_Member'],\n",
       " ['Age_Adult', 'Sex_Male', 'Crew_Member'],\n",
       " ['Age_Adult', 'Sex_Male', 'Crew_Member'],\n",
       " ['Age_Adult', 'Sex_Male', 'Crew_Member'],\n",
       " ['Age_Adult', 'Sex_Male', 'Crew_Member'],\n",
       " ['Age_Adult', 'Sex_Male', 'Crew_Member'],\n",
       " ['Age_Adult', 'Sex_Male', 'Crew_Member'],\n",
       " ['Age_Adult', 'Sex_Male', 'Crew_Member'],\n",
       " ['Age_Adult', 'Sex_Male', 'Crew_Member'],\n",
       " ['Age_Adult', 'Sex_Male', 'Crew_Member'],\n",
       " ['Age_Adult', 'Sex_Male', 'Crew_Member'],\n",
       " ['Age_Adult', 'Sex_Male', 'Crew_Member'],\n",
       " ['Age_Adult', 'Sex_Male', 'Crew_Member'],\n",
       " ['Age_Adult', 'Sex_Male', 'Crew_Member'],\n",
       " ['Age_Adult', 'Sex_Male', 'Crew_Member'],\n",
       " ['Age_Adult', 'Sex_Male', 'Crew_Member'],\n",
       " ['Age_Adult', 'Sex_Male', 'Crew_Member'],\n",
       " ['Age_Adult', 'Sex_Male', 'Crew_Member'],\n",
       " ['Age_Adult', 'Sex_Male', 'Crew_Member'],\n",
       " ['Age_Adult', 'Sex_Male', 'Crew_Member'],\n",
       " ['Age_Adult', 'Sex_Male', 'Crew_Member'],\n",
       " ['Age_Adult', 'Sex_Male', 'Crew_Member'],\n",
       " ['Age_Adult', 'Sex_Male', 'Crew_Member'],\n",
       " ['Age_Adult', 'Sex_Male', 'Crew_Member'],\n",
       " ['Age_Adult', 'Sex_Male', 'Crew_Member'],\n",
       " ['Age_Adult', 'Sex_Male', 'Crew_Member'],\n",
       " ['Age_Adult', 'Sex_Male', 'Crew_Member'],\n",
       " ['Age_Adult', 'Sex_Male', 'Crew_Member'],\n",
       " ['Age_Adult', 'Sex_Male', 'Crew_Member'],\n",
       " ['Age_Adult', 'Sex_Male', 'Crew_Member'],\n",
       " ['Age_Adult', 'Sex_Male', 'Crew_Member'],\n",
       " ['Age_Adult', 'Sex_Male', 'Crew_Member'],\n",
       " ['Age_Adult', 'Sex_Male', 'Crew_Member'],\n",
       " ['Age_Adult', 'Sex_Male', 'Crew_Member'],\n",
       " ['Age_Adult', 'Sex_Male', 'Crew_Member'],\n",
       " ['Age_Adult', 'Sex_Male', 'Crew_Member'],\n",
       " ['Age_Adult', 'Sex_Male', 'Crew_Member'],\n",
       " ['Age_Adult', 'Sex_Male', 'Crew_Member'],\n",
       " ['Age_Adult', 'Sex_Male', 'Crew_Member'],\n",
       " ['Age_Adult', 'Sex_Male', 'Crew_Member'],\n",
       " ['Age_Adult', 'Sex_Male', 'Crew_Member'],\n",
       " ['Age_Adult', 'Sex_Male', 'Crew_Member'],\n",
       " ['Age_Adult', 'Sex_Male', 'Crew_Member'],\n",
       " ['Age_Adult', 'Sex_Male', 'Crew_Member'],\n",
       " ['Age_Adult', 'Sex_Male', 'Crew_Member'],\n",
       " ['Age_Adult', 'Sex_Male', 'Crew_Member'],\n",
       " ['Age_Adult', 'Sex_Male', 'Crew_Member'],\n",
       " ['Age_Adult', 'Sex_Male', 'Crew_Member'],\n",
       " ['Age_Adult', 'Sex_Male', 'Crew_Member'],\n",
       " ['Age_Adult', 'Sex_Male', 'Crew_Member'],\n",
       " ['Age_Adult', 'Sex_Male', 'Crew_Member'],\n",
       " ['Age_Adult', 'Sex_Male', 'Crew_Member'],\n",
       " ['Age_Adult', 'Sex_Male', 'Crew_Member'],\n",
       " ['Age_Adult', 'Sex_Male', 'Crew_Member'],\n",
       " ['Age_Adult', 'Sex_Male', 'Crew_Member'],\n",
       " ['Age_Adult', 'Sex_Male', 'Crew_Member'],\n",
       " ['Age_Adult', 'Sex_Male', 'Crew_Member'],\n",
       " ['Age_Adult', 'Sex_Male', 'Crew_Member'],\n",
       " ['Age_Adult', 'Sex_Male', 'Crew_Member'],\n",
       " ['Age_Adult', 'Sex_Male', 'Crew_Member'],\n",
       " ['Age_Adult', 'Sex_Male', 'Crew_Member'],\n",
       " ['Age_Adult', 'Sex_Male', 'Crew_Member'],\n",
       " ['Age_Adult', 'Sex_Male', 'Crew_Member'],\n",
       " ['Age_Adult', 'Sex_Male', 'Crew_Member'],\n",
       " ['Age_Adult', 'Sex_Male', 'Crew_Member'],\n",
       " ['Age_Adult', 'Sex_Male', 'Crew_Member'],\n",
       " ['Age_Adult', 'Sex_Male', 'Crew_Member'],\n",
       " ['Age_Adult', 'Sex_Male', 'Crew_Member'],\n",
       " ['Age_Adult', 'Sex_Male', 'Crew_Member'],\n",
       " ['Age_Adult', 'Sex_Male', 'Crew_Member'],\n",
       " ['Age_Adult', 'Sex_Male', 'Crew_Member'],\n",
       " ['Age_Adult', 'Sex_Male', 'Crew_Member'],\n",
       " ['Age_Adult', 'Sex_Male', 'Crew_Member'],\n",
       " ['Age_Adult', 'Sex_Male', 'Crew_Member'],\n",
       " ['Age_Adult', 'Sex_Male', 'Crew_Member'],\n",
       " ['Age_Adult', 'Sex_Male', 'Crew_Member'],\n",
       " ['Age_Adult', 'Sex_Male', 'Crew_Member'],\n",
       " ['Age_Adult', 'Sex_Male', 'Crew_Member'],\n",
       " ['Age_Adult', 'Sex_Male', 'Crew_Member'],\n",
       " ['Age_Adult', 'Sex_Male', 'Crew_Member'],\n",
       " ['Age_Adult', 'Sex_Male', 'Crew_Member'],\n",
       " ['Age_Adult', 'Sex_Male', 'Crew_Member'],\n",
       " ['Age_Adult', 'Sex_Male', 'Crew_Member'],\n",
       " ['Age_Adult', 'Sex_Male', 'Crew_Member'],\n",
       " ['Age_Adult', 'Sex_Male', 'Crew_Member'],\n",
       " ['Age_Adult', 'Sex_Male', 'Crew_Member'],\n",
       " ['Age_Adult', 'Sex_Male', 'Crew_Member'],\n",
       " ['Age_Adult', 'Sex_Male', 'Crew_Member'],\n",
       " ['Age_Adult', 'Sex_Male', 'Crew_Member'],\n",
       " ['Age_Adult', 'Sex_Male', 'Crew_Member'],\n",
       " ['Age_Adult', 'Sex_Male', 'Crew_Member'],\n",
       " ['Age_Adult', 'Sex_Male', 'Crew_Member'],\n",
       " ['Age_Adult', 'Sex_Male', 'Crew_Member'],\n",
       " ['Age_Adult', 'Sex_Male', 'Crew_Member'],\n",
       " ['Age_Adult', 'Sex_Male', 'Crew_Member'],\n",
       " ['Age_Adult', 'Sex_Male', 'Crew_Member'],\n",
       " ['Age_Adult', 'Sex_Male', 'Crew_Member'],\n",
       " ['Age_Adult', 'Sex_Male', 'Crew_Member'],\n",
       " ['Age_Adult', 'Sex_Male', 'Crew_Member'],\n",
       " ['Age_Adult', 'Sex_Male', 'Crew_Member'],\n",
       " ['Age_Adult', 'Sex_Male', 'Crew_Member'],\n",
       " ['Age_Adult', 'Sex_Male', 'Crew_Member'],\n",
       " ['Age_Adult', 'Sex_Male', 'Crew_Member'],\n",
       " ['Age_Adult', 'Sex_Male', 'Crew_Member'],\n",
       " ['Age_Adult', 'Sex_Male', 'Crew_Member'],\n",
       " ['Age_Adult', 'Sex_Male', 'Crew_Member'],\n",
       " ['Age_Adult', 'Sex_Male', 'Crew_Member'],\n",
       " ['Age_Adult', 'Sex_Male', 'Crew_Member'],\n",
       " ['Age_Adult', 'Sex_Male', 'Crew_Member'],\n",
       " ['Age_Adult', 'Sex_Male', 'Crew_Member'],\n",
       " ['Age_Adult', 'Sex_Male', 'Crew_Member'],\n",
       " ['Age_Adult', 'Sex_Male', 'Crew_Member'],\n",
       " ['Age_Adult', 'Sex_Male', 'Crew_Member'],\n",
       " ['Age_Adult', 'Sex_Male', 'Crew_Member'],\n",
       " ['Age_Adult', 'Sex_Male', 'Crew_Member'],\n",
       " ['Age_Adult', 'Sex_Male', 'Crew_Member'],\n",
       " ['Age_Adult', 'Sex_Male', 'Crew_Member'],\n",
       " ['Age_Adult', 'Sex_Male', 'Crew_Member'],\n",
       " ['Age_Adult', 'Sex_Male', 'Crew_Member'],\n",
       " ['Age_Adult', 'Sex_Male', 'Crew_Member'],\n",
       " ['Age_Adult', 'Sex_Male', 'Crew_Member'],\n",
       " ['Age_Adult', 'Sex_Male', 'Crew_Member'],\n",
       " ['Age_Adult', 'Sex_Male', 'Crew_Member'],\n",
       " ['Age_Adult', 'Sex_Male', 'Crew_Member'],\n",
       " ['Age_Adult', 'Sex_Male', 'Crew_Member'],\n",
       " ['Age_Adult', 'Sex_Male', 'Crew_Member'],\n",
       " ['Age_Adult', 'Sex_Male', 'Crew_Member'],\n",
       " ['Age_Adult', 'Sex_Male', 'Crew_Member'],\n",
       " ['Age_Adult', 'Sex_Male', 'Crew_Member'],\n",
       " ['Age_Adult', 'Sex_Male', 'Crew_Member'],\n",
       " ['Age_Adult', 'Sex_Male', 'Crew_Member'],\n",
       " ['Age_Adult', 'Sex_Male', 'Crew_Member'],\n",
       " ['Age_Adult', 'Sex_Male', 'Crew_Member'],\n",
       " ['Age_Adult', 'Sex_Male', 'Crew_Member'],\n",
       " ['Age_Adult', 'Sex_Male', 'Crew_Member'],\n",
       " ['Age_Adult', 'Sex_Male', 'Crew_Member'],\n",
       " ['Age_Adult', 'Sex_Male', 'Crew_Member'],\n",
       " ['Age_Adult', 'Sex_Male', 'Crew_Member'],\n",
       " ['Age_Adult', 'Sex_Male', 'Crew_Member'],\n",
       " ['Age_Adult', 'Sex_Male', 'Crew_Member'],\n",
       " ['Age_Adult', 'Sex_Male', 'Crew_Member'],\n",
       " ['Age_Adult', 'Sex_Male', 'Crew_Member'],\n",
       " ['Age_Adult', 'Sex_Male', 'Crew_Member'],\n",
       " ['Age_Adult', 'Sex_Male', 'Crew_Member'],\n",
       " ['Age_Adult', 'Sex_Male', 'Crew_Member'],\n",
       " ['Age_Adult', 'Sex_Male', 'Crew_Member'],\n",
       " ['Age_Adult', 'Sex_Male', 'Crew_Member'],\n",
       " ['Age_Adult', 'Sex_Male', 'Crew_Member'],\n",
       " ['Age_Adult', 'Sex_Male', 'Crew_Member'],\n",
       " ['Age_Adult', 'Sex_Male', 'Crew_Member'],\n",
       " ['Age_Adult', 'Sex_Male', 'Crew_Member'],\n",
       " ['Age_Adult', 'Sex_Male', 'Crew_Member'],\n",
       " ['Age_Adult', 'Sex_Male', 'Crew_Member'],\n",
       " ['Age_Adult', 'Sex_Male', 'Crew_Member'],\n",
       " ['Age_Adult', 'Sex_Male', 'Crew_Member'],\n",
       " ['Age_Adult', 'Sex_Male', 'Crew_Member'],\n",
       " ['Age_Adult', 'Sex_Male', 'Crew_Member'],\n",
       " ['Age_Adult', 'Sex_Male', 'Crew_Member'],\n",
       " ['Age_Adult', 'Sex_Male', 'Crew_Member'],\n",
       " ['Age_Adult', 'Sex_Male', 'Crew_Member'],\n",
       " ['Age_Adult', 'Sex_Male', 'Crew_Member'],\n",
       " ['Age_Adult', 'Sex_Male', 'Crew_Member'],\n",
       " ['Age_Adult', 'Sex_Male', 'Crew_Member'],\n",
       " ['Age_Adult', 'Sex_Male', 'Crew_Member'],\n",
       " ['Age_Adult', 'Sex_Male', 'Crew_Member'],\n",
       " ['Age_Adult', 'Sex_Male', 'Crew_Member'],\n",
       " ['Age_Adult', 'Sex_Male', 'Crew_Member'],\n",
       " ['Age_Adult', 'Sex_Male', 'Crew_Member'],\n",
       " ['Age_Adult', 'Sex_Male', 'Crew_Member'],\n",
       " ['Age_Adult', 'Sex_Male', 'Crew_Member'],\n",
       " ['Age_Adult', 'Sex_Male', 'Crew_Member'],\n",
       " ['Age_Adult', 'Sex_Male', 'Crew_Member'],\n",
       " ['Age_Adult', 'Sex_Male', 'Crew_Member'],\n",
       " ['Age_Adult', 'Sex_Male', 'Crew_Member'],\n",
       " ['Age_Adult', 'Sex_Male', 'Crew_Member'],\n",
       " ['Age_Adult', 'Sex_Male', 'Crew_Member'],\n",
       " ['Age_Adult', 'Sex_Male', 'Crew_Member'],\n",
       " ['Age_Adult', 'Sex_Male', 'Crew_Member'],\n",
       " ['Age_Adult', 'Sex_Male', 'Crew_Member'],\n",
       " ['Age_Adult', 'Sex_Male', 'Crew_Member'],\n",
       " ['Age_Adult', 'Sex_Male', 'Crew_Member'],\n",
       " ['Age_Adult', 'Sex_Male', 'Crew_Member'],\n",
       " ['Age_Adult', 'Sex_Male', 'Crew_Member'],\n",
       " ['Age_Adult', 'Sex_Male', 'Crew_Member'],\n",
       " ['Age_Adult', 'Sex_Male', 'Crew_Member'],\n",
       " ['Age_Adult', 'Sex_Male', 'Crew_Member'],\n",
       " ['Age_Adult', 'Sex_Male', 'Crew_Member'],\n",
       " ['Age_Adult', 'Sex_Male', 'Crew_Member'],\n",
       " ['Age_Adult', 'Sex_Male', 'Crew_Member'],\n",
       " ['Age_Adult', 'Sex_Male', 'Crew_Member'],\n",
       " ['Age_Adult', 'Sex_Male', 'Crew_Member'],\n",
       " ['Age_Adult', 'Sex_Male', 'Crew_Member'],\n",
       " ['Age_Adult', 'Sex_Male', 'Crew_Member'],\n",
       " ['Age_Adult', 'Sex_Male', 'Crew_Member'],\n",
       " ['Age_Adult', 'Sex_Male', 'Crew_Member'],\n",
       " ['Age_Adult', 'Sex_Male', 'Crew_Member'],\n",
       " ['Age_Adult', 'Sex_Male', 'Crew_Member'],\n",
       " ['Age_Adult', 'Sex_Male', 'Crew_Member'],\n",
       " ['Age_Adult', 'Sex_Male', 'Crew_Member'],\n",
       " ['Age_Adult', 'Sex_Male', 'Crew_Member'],\n",
       " ['Age_Adult', 'Sex_Male', 'Crew_Member'],\n",
       " ['Age_Adult', 'Sex_Male', 'Crew_Member'],\n",
       " ['Age_Adult', 'Sex_Male', 'Crew_Member'],\n",
       " ['Age_Adult', 'Sex_Male', 'Crew_Member'],\n",
       " ['Age_Adult', 'Sex_Male', 'Crew_Member'],\n",
       " ['Age_Adult', 'Sex_Male', 'Crew_Member'],\n",
       " ['Age_Adult', 'Sex_Male', 'Crew_Member'],\n",
       " ['Age_Adult', 'Sex_Male', 'Crew_Member'],\n",
       " ['Age_Adult', 'Sex_Male', 'Crew_Member'],\n",
       " ['Age_Adult', 'Sex_Male', 'Crew_Member'],\n",
       " ['Age_Adult', 'Sex_Male', 'Crew_Member'],\n",
       " ['Age_Adult', 'Sex_Male', 'Crew_Member'],\n",
       " ['Age_Adult', 'Sex_Male', 'Crew_Member'],\n",
       " ['Age_Adult', 'Sex_Male', 'Crew_Member'],\n",
       " ['Age_Adult', 'Sex_Male', 'Crew_Member'],\n",
       " ['Age_Adult', 'Sex_Male', 'Crew_Member'],\n",
       " ['Age_Adult', 'Sex_Male', 'Crew_Member'],\n",
       " ['Age_Adult', 'Sex_Male', 'Crew_Member'],\n",
       " ['Age_Adult', 'Sex_Male', 'Crew_Member'],\n",
       " ['Age_Adult', 'Sex_Male', 'Crew_Member'],\n",
       " ['Age_Adult', 'Sex_Male', 'Crew_Member'],\n",
       " ['Age_Adult', 'Sex_Male', 'Crew_Member'],\n",
       " ['Age_Adult', 'Sex_Male', 'Crew_Member'],\n",
       " ['Age_Adult', 'Sex_Male', 'Crew_Member'],\n",
       " ['Age_Adult', 'Sex_Male', 'Crew_Member'],\n",
       " ['Age_Adult', 'Sex_Male', 'Crew_Member'],\n",
       " ['Age_Adult', 'Sex_Male', 'Crew_Member'],\n",
       " ['Age_Adult', 'Sex_Male', 'Crew_Member'],\n",
       " ['Age_Adult', 'Sex_Male', 'Crew_Member'],\n",
       " ['Age_Adult', 'Sex_Male', 'Crew_Member'],\n",
       " ['Age_Adult', 'Sex_Male', 'Crew_Member'],\n",
       " ['Age_Adult', 'Sex_Male', 'Crew_Member'],\n",
       " ['Age_Adult', 'Sex_Male', 'Crew_Member'],\n",
       " ['Age_Adult', 'Sex_Male', 'Crew_Member'],\n",
       " ['Age_Adult', 'Sex_Male', 'Crew_Member'],\n",
       " ['Age_Adult', 'Sex_Male', 'Crew_Member'],\n",
       " ['Age_Adult', 'Sex_Male', 'Crew_Member'],\n",
       " ['Age_Adult', 'Sex_Male', 'Crew_Member'],\n",
       " ['Age_Adult', 'Sex_Male', 'Crew_Member'],\n",
       " ['Age_Adult', 'Sex_Male', 'Crew_Member'],\n",
       " ['Age_Adult', 'Sex_Male', 'Crew_Member'],\n",
       " ['Age_Adult', 'Sex_Male', 'Crew_Member'],\n",
       " ['Age_Adult', 'Sex_Male', 'Crew_Member'],\n",
       " ['Age_Adult', 'Sex_Male', 'Crew_Member'],\n",
       " ['Age_Adult', 'Sex_Male', 'Crew_Member'],\n",
       " ['Age_Adult', 'Sex_Male', 'Crew_Member'],\n",
       " ['Age_Adult', 'Sex_Male', 'Crew_Member'],\n",
       " ['Age_Adult', 'Sex_Male', 'Crew_Member'],\n",
       " ['Age_Adult', 'Sex_Male', 'Crew_Member'],\n",
       " ['Age_Adult', 'Sex_Male', 'Crew_Member'],\n",
       " ['Age_Adult', 'Sex_Male', 'Crew_Member'],\n",
       " ['Age_Adult', 'Sex_Male', 'Crew_Member'],\n",
       " ['Age_Adult', 'Sex_Male', 'Crew_Member'],\n",
       " ['Age_Adult', 'Sex_Male', 'Crew_Member'],\n",
       " ['Age_Adult', 'Sex_Male', 'Crew_Member'],\n",
       " ['Age_Adult', 'Sex_Male', 'Crew_Member'],\n",
       " ['Age_Adult', 'Sex_Male', 'Crew_Member'],\n",
       " ['Age_Adult', 'Sex_Male', 'Crew_Member'],\n",
       " ['Age_Adult', 'Sex_Male', 'Crew_Member'],\n",
       " ['Age_Adult', 'Sex_Male', 'Crew_Member'],\n",
       " ['Age_Adult', 'Sex_Male', 'Crew_Member'],\n",
       " ['Age_Adult', 'Sex_Male', 'Crew_Member'],\n",
       " ['Age_Adult', 'Sex_Male', 'Crew_Member'],\n",
       " ['Age_Adult', 'Sex_Male', 'Crew_Member'],\n",
       " ['Age_Adult', 'Sex_Male', 'Crew_Member'],\n",
       " ['Age_Adult', 'Sex_Male', 'Crew_Member'],\n",
       " ['Age_Adult', 'Sex_Male', 'Crew_Member'],\n",
       " ['Age_Adult', 'Sex_Male', 'Crew_Member'],\n",
       " ['Age_Adult', 'Sex_Male', 'Crew_Member'],\n",
       " ['Age_Adult', 'Sex_Male', 'Crew_Member'],\n",
       " ['Age_Adult', 'Sex_Male', 'Crew_Member'],\n",
       " ['Age_Adult', 'Sex_Male', 'Crew_Member'],\n",
       " ['Age_Adult', 'Sex_Male', 'Crew_Member'],\n",
       " ['Age_Adult', 'Sex_Male', 'Crew_Member'],\n",
       " ['Age_Adult', 'Sex_Male', 'Crew_Member'],\n",
       " ['Age_Adult', 'Sex_Male', 'Crew_Member'],\n",
       " ['Age_Adult', 'Sex_Male', 'Crew_Member'],\n",
       " ['Age_Adult', 'Sex_Male', 'Crew_Member'],\n",
       " ['Age_Adult', 'Sex_Male', 'Crew_Member'],\n",
       " ['Age_Adult', 'Sex_Male', 'Crew_Member'],\n",
       " ['Age_Adult', 'Sex_Male', 'Crew_Member'],\n",
       " ['Age_Adult', 'Sex_Male', 'Crew_Member'],\n",
       " ['Age_Adult', 'Sex_Male', 'Crew_Member'],\n",
       " ['Age_Adult', 'Sex_Male', 'Crew_Member'],\n",
       " ['Age_Adult', 'Sex_Male', 'Crew_Member'],\n",
       " ['Age_Adult', 'Sex_Male', 'Crew_Member'],\n",
       " ['Age_Adult', 'Sex_Male', 'Crew_Member'],\n",
       " ['Age_Adult', 'Sex_Male', 'Crew_Member'],\n",
       " ['Age_Adult', 'Sex_Male', 'Crew_Member'],\n",
       " ['Age_Adult', 'Sex_Male', 'Crew_Member'],\n",
       " ['Age_Adult', 'Sex_Male', 'Crew_Member'],\n",
       " ['Age_Adult', 'Sex_Male', 'Crew_Member'],\n",
       " ['Age_Adult', 'Sex_Male', 'Crew_Member'],\n",
       " ['Age_Adult', 'Sex_Male', 'Crew_Member'],\n",
       " ['Age_Adult', 'Sex_Male', 'Crew_Member'],\n",
       " ['Age_Adult', 'Sex_Male', 'Crew_Member'],\n",
       " ['Age_Adult', 'Sex_Male', 'Crew_Member'],\n",
       " ['Age_Adult', 'Sex_Male', 'Crew_Member'],\n",
       " ['Age_Adult', 'Sex_Male', 'Crew_Member'],\n",
       " ['Age_Adult', 'Sex_Male', 'Crew_Member'],\n",
       " ['Age_Adult', 'Sex_Male', 'Crew_Member'],\n",
       " ['Age_Adult', 'Sex_Male', 'Crew_Member'],\n",
       " ['Age_Adult', 'Sex_Male', 'Crew_Member'],\n",
       " ['Age_Adult', 'Sex_Male', 'Crew_Member'],\n",
       " ['Age_Adult', 'Sex_Male', 'Crew_Member'],\n",
       " ['Age_Adult', 'Sex_Male', 'Crew_Member'],\n",
       " ['Age_Adult', 'Sex_Male', 'Crew_Member'],\n",
       " ['Age_Adult', 'Sex_Male', 'Crew_Member'],\n",
       " ['Age_Adult', 'Sex_Male', 'Crew_Member'],\n",
       " ['Age_Adult', 'Sex_Male', 'Crew_Member'],\n",
       " ['Age_Adult', 'Sex_Male', 'Crew_Member'],\n",
       " ['Age_Adult', 'Sex_Male', 'Crew_Member'],\n",
       " ['Age_Adult', 'Sex_Male', 'Crew_Member'],\n",
       " ['Age_Adult', 'Sex_Male', 'Crew_Member'],\n",
       " ['Age_Adult', 'Sex_Male', 'Crew_Member'],\n",
       " ['Age_Adult', 'Sex_Male', 'Crew_Member'],\n",
       " ['Age_Adult', 'Sex_Male', 'Crew_Member'],\n",
       " ['Age_Adult', 'Sex_Male', 'Crew_Member'],\n",
       " ['Age_Adult', 'Sex_Male', 'Crew_Member'],\n",
       " ['Age_Adult', 'Sex_Male', 'Crew_Member'],\n",
       " ['Age_Adult', 'Sex_Male', 'Crew_Member'],\n",
       " ['Age_Adult', 'Sex_Male', 'Crew_Member'],\n",
       " ['Age_Adult', 'Sex_Male', 'Crew_Member'],\n",
       " ['Age_Adult', 'Sex_Male', 'Crew_Member'],\n",
       " ['Age_Adult', 'Sex_Male', 'Crew_Member'],\n",
       " ['Age_Adult', 'Sex_Male', 'Crew_Member'],\n",
       " ['Age_Adult', 'Sex_Male', 'Crew_Member'],\n",
       " ['Age_Adult', 'Sex_Male', 'Crew_Member'],\n",
       " ['Age_Adult', 'Sex_Male', 'Crew_Member'],\n",
       " ['Age_Adult', 'Sex_Male', 'Crew_Member'],\n",
       " ['Age_Adult', 'Sex_Male', 'Crew_Member'],\n",
       " ['Age_Adult', 'Sex_Male', 'Crew_Member'],\n",
       " ['Age_Adult', 'Sex_Male', 'Crew_Member'],\n",
       " ['Age_Adult', 'Sex_Male', 'Crew_Member'],\n",
       " ['Age_Adult', 'Sex_Male', 'Crew_Member'],\n",
       " ['Age_Adult', 'Sex_Male', 'Crew_Member'],\n",
       " ['Age_Adult', 'Sex_Male', 'Crew_Member'],\n",
       " ['Age_Adult', 'Sex_Male', 'Crew_Member'],\n",
       " ['Age_Adult', 'Sex_Male', 'Crew_Member'],\n",
       " ['Age_Adult', 'Sex_Male', 'Crew_Member'],\n",
       " ['Age_Adult', 'Sex_Male', 'Crew_Member'],\n",
       " ['Age_Adult', 'Sex_Male', 'Crew_Member'],\n",
       " ['Age_Adult', 'Sex_Male', 'Crew_Member'],\n",
       " ['Age_Adult', 'Sex_Male', 'Crew_Member'],\n",
       " ['Age_Adult', 'Sex_Male', 'Crew_Member'],\n",
       " ['Age_Adult', 'Sex_Male', 'Crew_Member'],\n",
       " ['Age_Adult', 'Sex_Male', 'Crew_Member'],\n",
       " ['Age_Adult', 'Sex_Male', 'Crew_Member'],\n",
       " ['Age_Adult', 'Sex_Male', 'Crew_Member'],\n",
       " ['Age_Adult', 'Sex_Male', 'Crew_Member'],\n",
       " ['Age_Adult', 'Sex_Male', 'Crew_Member'],\n",
       " ['Age_Adult', 'Sex_Male', 'Crew_Member'],\n",
       " ['Age_Adult', 'Sex_Male', 'Crew_Member'],\n",
       " ['Age_Adult', 'Sex_Male', 'Crew_Member'],\n",
       " ['Age_Adult', 'Sex_Male', 'Crew_Member'],\n",
       " ['Age_Adult', 'Sex_Male', 'Crew_Member'],\n",
       " ['Age_Adult', 'Sex_Male', 'Crew_Member'],\n",
       " ['Age_Adult', 'Sex_Male', 'Crew_Member'],\n",
       " ['Age_Adult', 'Sex_Male', 'Crew_Member'],\n",
       " ['Age_Adult', 'Sex_Male', 'Crew_Member'],\n",
       " ['Age_Adult', 'Sex_Male', 'Crew_Member'],\n",
       " ['Age_Adult', 'Sex_Male', 'Crew_Member'],\n",
       " ['Age_Adult', 'Sex_Male', 'Crew_Member'],\n",
       " ['Age_Adult', 'Sex_Male', 'Crew_Member'],\n",
       " ['Age_Adult', 'Sex_Male', 'Crew_Member'],\n",
       " ['Age_Adult', 'Sex_Male', 'Crew_Member'],\n",
       " ['Age_Adult', 'Sex_Male', 'Crew_Member'],\n",
       " ['Age_Adult', 'Sex_Male', 'Crew_Member'],\n",
       " ['Age_Adult', 'Sex_Male', 'Crew_Member'],\n",
       " ['Age_Adult', 'Sex_Male', 'Crew_Member'],\n",
       " ['Age_Adult', 'Sex_Male', 'Crew_Member'],\n",
       " ['Age_Adult', 'Sex_Male', 'Crew_Member'],\n",
       " ['Age_Adult', 'Sex_Male', 'Crew_Member'],\n",
       " ['Age_Adult', 'Sex_Male', 'Crew_Member'],\n",
       " ['Age_Adult', 'Sex_Male', 'Crew_Member'],\n",
       " ['Age_Adult', 'Sex_Male', 'Crew_Member'],\n",
       " ['Age_Adult', 'Sex_Male', 'Crew_Member'],\n",
       " ['Age_Adult', 'Sex_Male', 'Crew_Member'],\n",
       " ['Age_Adult', 'Sex_Male', 'Crew_Member'],\n",
       " ['Age_Adult', 'Sex_Male', 'Crew_Member'],\n",
       " ['Age_Adult', 'Sex_Male', 'Crew_Member'],\n",
       " ['Age_Adult', 'Sex_Male', 'Crew_Member'],\n",
       " ['Age_Adult', 'Sex_Male', 'Crew_Member'],\n",
       " ['Age_Adult', 'Sex_Male', 'Crew_Member'],\n",
       " ['Age_Adult', 'Sex_Male', 'Crew_Member'],\n",
       " ['Age_Adult', 'Sex_Male', 'Crew_Member'],\n",
       " ['Age_Adult', 'Sex_Male', 'Crew_Member'],\n",
       " ['Age_Adult', 'Sex_Male', 'Crew_Member'],\n",
       " ['Age_Adult', 'Sex_Male', 'Crew_Member'],\n",
       " ['Age_Adult', 'Sex_Male', 'Crew_Member'],\n",
       " ['Age_Adult', 'Sex_Male', 'Crew_Member'],\n",
       " ['Age_Adult', 'Sex_Male', 'Crew_Member'],\n",
       " ['Age_Adult', 'Sex_Male', 'Crew_Member'],\n",
       " ['Age_Adult', 'Sex_Male', 'Crew_Member'],\n",
       " ['Age_Adult', 'Sex_Male', 'Crew_Member'],\n",
       " ['Age_Adult', 'Sex_Male', 'Crew_Member'],\n",
       " ['Age_Adult', 'Sex_Male', 'Crew_Member'],\n",
       " ['Age_Adult', 'Sex_Male', 'Crew_Member'],\n",
       " ['Age_Adult', 'Sex_Male', 'Crew_Member'],\n",
       " ['Age_Adult', 'Sex_Male', 'Crew_Member'],\n",
       " ['Age_Adult', 'Sex_Male', 'Crew_Member'],\n",
       " ['Age_Adult', 'Sex_Male', 'Crew_Member'],\n",
       " ['Age_Adult', 'Sex_Male', 'Crew_Member'],\n",
       " ['Age_Adult', 'Sex_Male', 'Crew_Member'],\n",
       " ['Age_Adult', 'Sex_Male', 'Crew_Member'],\n",
       " ['Age_Adult', 'Sex_Male', 'Crew_Member'],\n",
       " ['Age_Adult', 'Sex_Male', 'Crew_Member'],\n",
       " ['Age_Adult', 'Sex_Male', 'Crew_Member'],\n",
       " ['Age_Adult', 'Sex_Male', 'Crew_Member'],\n",
       " ['Age_Adult', 'Sex_Male', 'Crew_Member'],\n",
       " ['Age_Adult', 'Sex_Male', 'Crew_Member'],\n",
       " ['Age_Adult', 'Sex_Male', 'Crew_Member'],\n",
       " ['Age_Adult', 'Sex_Male', 'Crew_Member'],\n",
       " ['Age_Adult', 'Sex_Male', 'Crew_Member'],\n",
       " ['Age_Adult', 'Sex_Male', 'Crew_Member'],\n",
       " ['Age_Adult', 'Sex_Male', 'Crew_Member'],\n",
       " ['Age_Adult', 'Sex_Male', 'Crew_Member'],\n",
       " ['Age_Adult', 'Sex_Male', 'Crew_Member'],\n",
       " ['Age_Adult', 'Sex_Male', 'Crew_Member'],\n",
       " ['Age_Adult', 'Sex_Male', 'Crew_Member'],\n",
       " ['Age_Adult', 'Sex_Male', 'Crew_Member'],\n",
       " ['Age_Adult', 'Sex_Male', 'Crew_Member'],\n",
       " ['Age_Adult', 'Sex_Male', 'Crew_Member'],\n",
       " ['Age_Adult', 'Sex_Male', 'Crew_Member'],\n",
       " ['Age_Adult', 'Sex_Male', 'Crew_Member'],\n",
       " ['Age_Adult', 'Sex_Male', 'Crew_Member'],\n",
       " ['Age_Adult', 'Sex_Male', 'Crew_Member'],\n",
       " ['Age_Adult', 'Sex_Male', 'Crew_Member'],\n",
       " ['Age_Adult', 'Sex_Male', 'Crew_Member'],\n",
       " ['Age_Adult', 'Sex_Male', 'Crew_Member'],\n",
       " ['Age_Adult', 'Sex_Male', 'Crew_Member'],\n",
       " ['Age_Adult', 'Sex_Male', 'Crew_Member'],\n",
       " ['Age_Adult', 'Sex_Male', 'Crew_Member'],\n",
       " ['Age_Adult', 'Sex_Male', 'Crew_Member'],\n",
       " ['Age_Adult', 'Sex_Male', 'Crew_Member'],\n",
       " ['Age_Adult', 'Sex_Male', 'Crew_Member'],\n",
       " ['Age_Adult', 'Sex_Male', 'Crew_Member'],\n",
       " ['Age_Adult', 'Sex_Male', 'Crew_Member'],\n",
       " ['Age_Adult', 'Sex_Male', 'Crew_Member'],\n",
       " ['Age_Adult', 'Sex_Male', 'Crew_Member'],\n",
       " ['Age_Adult', 'Sex_Male', 'Crew_Member'],\n",
       " ['Age_Adult', 'Sex_Male', 'Crew_Member'],\n",
       " ['Age_Adult', 'Sex_Male', 'Crew_Member'],\n",
       " ['Age_Adult', 'Sex_Male', 'Crew_Member'],\n",
       " ['Age_Adult', 'Sex_Male', 'Crew_Member'],\n",
       " ['Age_Adult', 'Sex_Male', 'Crew_Member'],\n",
       " ['Age_Adult', 'Sex_Male', 'Crew_Member'],\n",
       " ['Age_Adult', 'Sex_Male', 'Crew_Member'],\n",
       " ['Age_Adult', 'Sex_Male', 'Crew_Member'],\n",
       " ['Age_Adult', 'Sex_Male', 'Survived', 'Crew_Member'],\n",
       " ['Age_Adult', 'Sex_Male', 'Survived', 'Crew_Member'],\n",
       " ['Age_Adult', 'Sex_Male', 'Survived', 'Crew_Member'],\n",
       " ['Age_Adult', 'Sex_Male', 'Survived', 'Crew_Member'],\n",
       " ['Age_Adult', 'Sex_Male', 'Survived', 'Crew_Member'],\n",
       " ['Age_Adult', 'Sex_Male', 'Survived', 'Crew_Member'],\n",
       " ['Age_Adult', 'Sex_Male', 'Survived', 'Crew_Member'],\n",
       " ['Age_Adult', 'Sex_Male', 'Survived', 'Crew_Member'],\n",
       " ['Age_Adult', 'Sex_Male', 'Survived', 'Crew_Member'],\n",
       " ['Age_Adult', 'Sex_Male', 'Survived', 'Crew_Member'],\n",
       " ['Age_Adult', 'Sex_Male', 'Survived', 'Crew_Member'],\n",
       " ['Age_Adult', 'Sex_Male', 'Survived', 'Crew_Member'],\n",
       " ['Age_Adult', 'Sex_Male', 'Survived', 'Crew_Member'],\n",
       " ['Age_Adult', 'Sex_Male', 'Survived', 'Crew_Member'],\n",
       " ['Age_Adult', 'Sex_Male', 'Survived', 'Crew_Member'],\n",
       " ['Age_Adult', 'Sex_Male', 'Survived', 'Crew_Member'],\n",
       " ['Age_Adult', 'Sex_Male', 'Survived', 'Crew_Member'],\n",
       " ['Age_Adult', 'Sex_Male', 'Survived', 'Crew_Member'],\n",
       " ['Age_Adult', 'Sex_Male', 'Survived', 'Crew_Member'],\n",
       " ['Age_Adult', 'Sex_Male', 'Survived', 'Crew_Member'],\n",
       " ['Age_Adult', 'Sex_Male', 'Survived', 'Crew_Member'],\n",
       " ['Age_Adult', 'Sex_Male', 'Survived', 'Crew_Member'],\n",
       " ['Age_Adult', 'Sex_Male', 'Survived', 'Crew_Member'],\n",
       " ['Age_Adult', 'Sex_Male', 'Survived', 'Crew_Member'],\n",
       " ['Age_Adult', 'Sex_Male', 'Survived', 'Crew_Member'],\n",
       " ['Age_Adult', 'Sex_Male', 'Survived', 'Crew_Member'],\n",
       " ['Age_Adult', 'Sex_Male', 'Survived', 'Crew_Member'],\n",
       " ['Age_Adult', 'Sex_Male', 'Survived', 'Crew_Member'],\n",
       " ['Age_Adult', 'Sex_Male', 'Survived', 'Crew_Member'],\n",
       " ['Age_Adult', 'Sex_Male', 'Survived', 'Crew_Member'],\n",
       " ['Age_Adult', 'Sex_Male', 'Survived', 'Crew_Member'],\n",
       " ['Age_Adult', 'Sex_Male', 'Survived', 'Crew_Member'],\n",
       " ['Age_Adult', 'Sex_Male', 'Survived', 'Crew_Member'],\n",
       " ['Age_Adult', 'Sex_Male', 'Survived', 'Crew_Member'],\n",
       " ['Age_Adult', 'Sex_Male', 'Survived', 'Crew_Member'],\n",
       " ['Age_Adult', 'Sex_Male', 'Survived', 'Crew_Member'],\n",
       " ['Age_Adult', 'Sex_Male', 'Survived', 'Crew_Member'],\n",
       " ['Age_Adult', 'Sex_Male', 'Survived', 'Crew_Member'],\n",
       " ['Age_Adult', 'Sex_Male', 'Survived', 'Crew_Member'],\n",
       " ['Age_Adult', 'Sex_Male', 'Survived', 'Crew_Member'],\n",
       " ['Age_Adult', 'Sex_Male', 'Survived', 'Crew_Member'],\n",
       " ['Age_Adult', 'Sex_Male', 'Survived', 'Crew_Member'],\n",
       " ['Age_Adult', 'Sex_Male', 'Survived', 'Crew_Member'],\n",
       " ['Age_Adult', 'Sex_Male', 'Survived', 'Crew_Member'],\n",
       " ['Age_Adult', 'Sex_Male', 'Survived', 'Crew_Member'],\n",
       " ['Age_Adult', 'Sex_Male', 'Survived', 'Crew_Member'],\n",
       " ['Age_Adult', 'Sex_Male', 'Survived', 'Crew_Member'],\n",
       " ['Age_Adult', 'Sex_Male', 'Survived', 'Crew_Member'],\n",
       " ['Age_Adult', 'Sex_Male', 'Survived', 'Crew_Member'],\n",
       " ['Age_Adult', 'Sex_Male', 'Survived', 'Crew_Member'],\n",
       " ['Age_Adult', 'Sex_Male', 'Survived', 'Crew_Member'],\n",
       " ['Age_Adult', 'Sex_Male', 'Survived', 'Crew_Member'],\n",
       " ['Age_Adult', 'Sex_Male', 'Survived', 'Crew_Member'],\n",
       " ['Age_Adult', 'Sex_Male', 'Survived', 'Crew_Member'],\n",
       " ['Age_Adult', 'Sex_Male', 'Survived', 'Crew_Member'],\n",
       " ['Age_Adult', 'Sex_Male', 'Survived', 'Crew_Member'],\n",
       " ['Age_Adult', 'Sex_Male', 'Survived', 'Crew_Member'],\n",
       " ['Age_Adult', 'Sex_Male', 'Survived', 'Crew_Member'],\n",
       " ['Age_Adult', 'Sex_Male', 'Survived', 'Crew_Member'],\n",
       " ['Age_Adult', 'Sex_Male', 'Survived', 'Crew_Member'],\n",
       " ['Age_Adult', 'Sex_Male', 'Survived', 'Crew_Member'],\n",
       " ['Age_Adult', 'Sex_Male', 'Survived', 'Crew_Member'],\n",
       " ['Age_Adult', 'Sex_Male', 'Survived', 'Crew_Member'],\n",
       " ['Age_Adult', 'Sex_Male', 'Survived', 'Crew_Member'],\n",
       " ['Age_Adult', 'Sex_Male', 'Survived', 'Crew_Member'],\n",
       " ['Age_Adult', 'Sex_Male', 'Survived', 'Crew_Member'],\n",
       " ['Age_Adult', 'Sex_Male', 'Survived', 'Crew_Member'],\n",
       " ['Age_Adult', 'Sex_Male', 'Survived', 'Crew_Member'],\n",
       " ['Age_Adult', 'Sex_Male', 'Survived', 'Crew_Member'],\n",
       " ['Age_Adult', 'Sex_Male', 'Survived', 'Crew_Member'],\n",
       " ['Age_Adult', 'Sex_Male', 'Survived', 'Crew_Member'],\n",
       " ['Age_Adult', 'Sex_Male', 'Survived', 'Crew_Member'],\n",
       " ['Age_Adult', 'Sex_Male', 'Survived', 'Crew_Member'],\n",
       " ['Age_Adult', 'Sex_Male', 'Survived', 'Crew_Member'],\n",
       " ['Age_Adult', 'Sex_Male', 'Survived', 'Crew_Member'],\n",
       " ['Age_Adult', 'Sex_Male', 'Survived', 'Crew_Member'],\n",
       " ['Age_Adult', 'Sex_Male', 'Survived', 'Crew_Member'],\n",
       " ['Age_Adult', 'Sex_Male', 'Survived', 'Crew_Member'],\n",
       " ['Age_Adult', 'Sex_Male', 'Survived', 'Crew_Member'],\n",
       " ['Age_Adult', 'Sex_Male', 'Survived', 'Crew_Member'],\n",
       " ['Age_Adult', 'Sex_Male', 'Survived', 'Crew_Member'],\n",
       " ['Age_Adult', 'Sex_Male', 'Survived', 'Crew_Member'],\n",
       " ['Age_Adult', 'Sex_Male', 'Survived', 'Crew_Member'],\n",
       " ['Age_Adult', 'Sex_Male', 'Survived', 'Crew_Member'],\n",
       " ['Age_Adult', 'Sex_Male', 'Survived', 'Crew_Member'],\n",
       " ['Age_Adult', 'Sex_Male', 'Survived', 'Crew_Member'],\n",
       " ['Age_Adult', 'Sex_Male', 'Survived', 'Crew_Member'],\n",
       " ['Age_Adult', 'Sex_Male', 'Survived', 'Crew_Member'],\n",
       " ['Age_Adult', 'Sex_Male', 'Survived', 'Crew_Member'],\n",
       " ['Age_Adult', 'Sex_Male', 'Survived', 'Crew_Member'],\n",
       " ['Age_Adult', 'Sex_Male', 'Survived', 'Crew_Member'],\n",
       " ['Age_Adult', 'Sex_Male', 'Survived', 'Crew_Member'],\n",
       " ['Age_Adult', 'Sex_Male', 'Survived', 'Crew_Member'],\n",
       " ['Age_Adult', 'Sex_Male', 'Survived', 'Crew_Member'],\n",
       " ['Age_Adult', 'Sex_Male', 'Survived', 'Crew_Member'],\n",
       " ['Age_Adult', 'Sex_Male', 'Survived', 'Crew_Member'],\n",
       " ['Age_Adult', 'Sex_Male', 'Survived', 'Crew_Member'],\n",
       " ['Age_Adult', 'Sex_Male', 'Survived', 'Crew_Member'],\n",
       " ['Age_Adult', 'Sex_Male', 'Survived', 'Crew_Member'],\n",
       " ['Age_Adult', 'Sex_Male', 'Survived', 'Crew_Member'],\n",
       " ['Age_Adult', 'Sex_Male', 'Survived', 'Crew_Member'],\n",
       " ['Age_Adult', 'Sex_Male', 'Survived', 'Crew_Member'],\n",
       " ['Age_Adult', 'Sex_Male', 'Survived', 'Crew_Member'],\n",
       " ['Age_Adult', 'Sex_Male', 'Survived', 'Crew_Member'],\n",
       " ['Age_Adult', 'Sex_Male', 'Survived', 'Crew_Member'],\n",
       " ['Age_Adult', 'Sex_Male', 'Survived', 'Crew_Member'],\n",
       " ['Age_Adult', 'Sex_Male', 'Survived', 'Crew_Member'],\n",
       " ['Age_Adult', 'Sex_Male', 'Survived', 'Crew_Member'],\n",
       " ['Age_Adult', 'Sex_Male', 'Survived', 'Crew_Member'],\n",
       " ['Age_Adult', 'Sex_Male', 'Survived', 'Crew_Member'],\n",
       " ['Age_Adult', 'Sex_Male', 'Survived', 'Crew_Member'],\n",
       " ['Age_Adult', 'Sex_Male', 'Survived', 'Crew_Member'],\n",
       " ['Age_Adult', 'Sex_Male', 'Survived', 'Crew_Member'],\n",
       " ['Age_Adult', 'Sex_Male', 'Survived', 'Crew_Member'],\n",
       " ['Age_Adult', 'Sex_Male', 'Survived', 'Crew_Member'],\n",
       " ['Age_Adult', 'Sex_Male', 'Survived', 'Crew_Member'],\n",
       " ['Age_Adult', 'Sex_Male', 'Survived', 'Crew_Member'],\n",
       " ['Age_Adult', 'Sex_Male', 'Survived', 'Crew_Member'],\n",
       " ['Age_Adult', 'Sex_Male', 'Survived', 'Crew_Member'],\n",
       " ['Age_Adult', 'Sex_Male', 'Survived', 'Crew_Member'],\n",
       " ['Age_Adult', 'Sex_Male', 'Survived', 'Crew_Member'],\n",
       " ['Age_Adult', 'Sex_Male', 'Survived', 'Crew_Member'],\n",
       " ['Age_Adult', 'Sex_Male', 'Survived', 'Crew_Member'],\n",
       " ['Age_Adult', 'Sex_Male', 'Survived', 'Crew_Member'],\n",
       " ['Age_Adult', 'Sex_Male', 'Survived', 'Crew_Member'],\n",
       " ['Age_Adult', 'Sex_Male', 'Survived', 'Crew_Member'],\n",
       " ['Age_Adult', 'Sex_Male', 'Survived', 'Crew_Member'],\n",
       " ['Age_Adult', 'Sex_Male', 'Survived', 'Crew_Member'],\n",
       " ['Age_Adult', 'Sex_Male', 'Survived', 'Crew_Member'],\n",
       " ['Age_Adult', 'Sex_Male', 'Survived', 'Crew_Member'],\n",
       " ['Age_Adult', 'Sex_Male', 'Survived', 'Crew_Member'],\n",
       " ['Age_Adult', 'Sex_Male', 'Survived', 'Crew_Member'],\n",
       " ['Age_Adult', 'Sex_Male', 'Survived', 'Crew_Member'],\n",
       " ['Age_Adult', 'Sex_Male', 'Survived', 'Crew_Member'],\n",
       " ['Age_Adult', 'Sex_Male', 'Survived', 'Crew_Member'],\n",
       " ['Age_Adult', 'Sex_Male', 'Survived', 'Crew_Member'],\n",
       " ['Age_Adult', 'Sex_Male', 'Survived', 'Crew_Member'],\n",
       " ['Age_Adult', 'Sex_Male', 'Survived', 'Crew_Member'],\n",
       " ['Age_Adult', 'Sex_Male', 'Survived', 'Crew_Member'],\n",
       " ['Age_Adult', 'Sex_Male', 'Survived', 'Crew_Member'],\n",
       " ['Age_Adult', 'Sex_Male', 'Survived', 'Crew_Member'],\n",
       " ['Age_Adult', 'Sex_Male', 'Survived', 'Crew_Member'],\n",
       " ['Age_Adult', 'Sex_Male', 'Survived', 'Crew_Member'],\n",
       " ['Age_Adult', 'Sex_Male', 'Survived', 'Crew_Member'],\n",
       " ['Age_Adult', 'Sex_Male', 'Survived', 'Crew_Member'],\n",
       " ['Age_Adult', 'Sex_Male', 'Survived', 'Crew_Member'],\n",
       " ['Age_Adult', 'Sex_Male', 'Survived', 'Crew_Member'],\n",
       " ['Age_Adult', 'Sex_Male', 'Survived', 'Crew_Member'],\n",
       " ['Age_Adult', 'Sex_Male', 'Survived', 'Crew_Member'],\n",
       " ['Age_Adult', 'Sex_Male', 'Survived', 'Crew_Member'],\n",
       " ['Age_Adult', 'Sex_Male', 'Survived', 'Crew_Member'],\n",
       " ['Age_Adult', 'Sex_Male', 'Survived', 'Crew_Member'],\n",
       " ['Age_Adult', 'Sex_Male', 'Survived', 'Crew_Member'],\n",
       " ['Age_Adult', 'Sex_Male', 'Survived', 'Crew_Member'],\n",
       " ['Age_Adult', 'Sex_Male', 'Survived', 'Crew_Member'],\n",
       " ['Age_Adult', 'Sex_Male', 'Survived', 'Crew_Member'],\n",
       " ['Age_Adult', 'Sex_Male', 'Survived', 'Crew_Member'],\n",
       " ['Age_Adult', 'Sex_Male', 'Survived', 'Crew_Member'],\n",
       " ['Age_Adult', 'Sex_Male', 'Survived', 'Crew_Member'],\n",
       " ['Age_Adult', 'Sex_Male', 'Survived', 'Crew_Member'],\n",
       " ['Age_Adult', 'Sex_Male', 'Survived', 'Crew_Member'],\n",
       " ['Age_Adult', 'Sex_Male', 'Survived', 'Crew_Member'],\n",
       " ['Age_Adult', 'Sex_Male', 'Survived', 'Crew_Member'],\n",
       " ['Age_Adult', 'Sex_Male', 'Survived', 'Crew_Member'],\n",
       " ['Age_Adult', 'Sex_Male', 'Survived', 'Crew_Member'],\n",
       " ['Age_Adult', 'Sex_Male', 'Survived', 'Crew_Member'],\n",
       " ['Age_Adult', 'Sex_Male', 'Survived', 'Crew_Member'],\n",
       " ['Age_Adult', 'Sex_Male', 'Survived', 'Crew_Member'],\n",
       " ['Age_Adult', 'Sex_Male', 'Survived', 'Crew_Member'],\n",
       " ['Age_Adult', 'Sex_Male', 'Survived', 'Crew_Member'],\n",
       " ['Age_Adult', 'Sex_Male', 'Survived', 'Crew_Member'],\n",
       " ['Age_Adult', 'Sex_Male', 'Survived', 'Crew_Member'],\n",
       " ['Age_Adult', 'Sex_Male', 'Survived', 'Crew_Member'],\n",
       " ['Age_Adult', 'Sex_Male', 'Survived', 'Crew_Member'],\n",
       " ['Age_Adult', 'Sex_Male', 'Survived', 'Crew_Member'],\n",
       " ['Age_Adult', 'Sex_Male', 'Survived', 'Crew_Member'],\n",
       " ['Age_Adult', 'Sex_Male', 'Survived', 'Crew_Member'],\n",
       " ['Age_Adult', 'Sex_Male', 'Survived', 'Crew_Member'],\n",
       " ['Age_Adult', 'Sex_Male', 'Survived', 'Crew_Member'],\n",
       " ['Age_Adult', 'Sex_Male', 'Survived', 'Crew_Member'],\n",
       " ['Age_Adult', 'Sex_Male', 'Survived', 'Crew_Member'],\n",
       " ['Age_Adult', 'Sex_Male', 'Survived', 'Crew_Member'],\n",
       " ['Age_Adult', 'Sex_Male', 'Survived', 'Crew_Member'],\n",
       " ['Age_Adult', 'Sex_Male', 'Survived', 'Crew_Member'],\n",
       " ['Age_Adult', 'Sex_Male', 'Survived', 'Crew_Member'],\n",
       " ['Age_Adult', 'Sex_Male', 'Survived', 'Crew_Member'],\n",
       " ['Age_Adult', 'Sex_Male', 'Survived', 'Crew_Member'],\n",
       " ['Age_Adult', 'Sex_Male', 'Survived', 'Crew_Member'],\n",
       " ['Age_Adult', 'Sex_Male', 'Survived', 'Crew_Member'],\n",
       " ['Age_Adult', 'Sex_Male', 'Survived', 'Crew_Member'],\n",
       " ['Age_Adult', 'Sex_Male', 'Survived', 'Crew_Member'],\n",
       " ['Age_Adult', 'Sex_Male', 'Survived', 'Crew_Member'],\n",
       " ['Age_Child', 'Sex_Female', 'Survived', 'First_class'],\n",
       " ['Age_Child', 'Sex_Male', 'Survived', 'First_class'],\n",
       " ['Age_Child', 'Sex_Male', 'Survived', 'First_class'],\n",
       " ['Age_Child', 'Sex_Male', 'Survived', 'First_class'],\n",
       " ['Age_Child', 'Sex_Male', 'Survived', 'First_class'],\n",
       " ['Age_Child', 'Sex_Male', 'Survived', 'First_class'],\n",
       " ['Age_Adult', 'Sex_Female', 'First_class'],\n",
       " ['Age_Adult', 'Sex_Female', 'First_class'],\n",
       " ['Age_Adult', 'Sex_Female', 'First_class'],\n",
       " ['Age_Adult', 'Sex_Female', 'First_class'],\n",
       " ['Age_Adult', 'Sex_Female', 'Survived', 'First_class'],\n",
       " ['Age_Adult', 'Sex_Female', 'Survived', 'First_class'],\n",
       " ['Age_Adult', 'Sex_Female', 'Survived', 'First_class'],\n",
       " ['Age_Adult', 'Sex_Female', 'Survived', 'First_class'],\n",
       " ['Age_Adult', 'Sex_Female', 'Survived', 'First_class'],\n",
       " ['Age_Adult', 'Sex_Female', 'Survived', 'First_class'],\n",
       " ['Age_Adult', 'Sex_Female', 'Survived', 'First_class'],\n",
       " ['Age_Adult', 'Sex_Female', 'Survived', 'First_class'],\n",
       " ['Age_Adult', 'Sex_Female', 'Survived', 'First_class'],\n",
       " ['Age_Adult', 'Sex_Female', 'Survived', 'First_class'],\n",
       " ['Age_Adult', 'Sex_Female', 'Survived', 'First_class'],\n",
       " ['Age_Adult', 'Sex_Female', 'Survived', 'First_class'],\n",
       " ['Age_Adult', 'Sex_Female', 'Survived', 'First_class'],\n",
       " ['Age_Adult', 'Sex_Female', 'Survived', 'First_class'],\n",
       " ['Age_Adult', 'Sex_Female', 'Survived', 'First_class'],\n",
       " ['Age_Adult', 'Sex_Female', 'Survived', 'First_class'],\n",
       " ['Age_Adult', 'Sex_Female', 'Survived', 'First_class'],\n",
       " ['Age_Adult', 'Sex_Female', 'Survived', 'First_class'],\n",
       " ['Age_Adult', 'Sex_Female', 'Survived', 'First_class'],\n",
       " ['Age_Adult', 'Sex_Female', 'Survived', 'First_class'],\n",
       " ['Age_Adult', 'Sex_Female', 'Survived', 'First_class'],\n",
       " ['Age_Adult', 'Sex_Female', 'Survived', 'First_class'],\n",
       " ['Age_Adult', 'Sex_Female', 'Survived', 'First_class'],\n",
       " ['Age_Adult', 'Sex_Female', 'Survived', 'First_class'],\n",
       " ['Age_Adult', 'Sex_Female', 'Survived', 'First_class'],\n",
       " ['Age_Adult', 'Sex_Female', 'Survived', 'First_class'],\n",
       " ['Age_Adult', 'Sex_Female', 'Survived', 'First_class'],\n",
       " ['Age_Adult', 'Sex_Female', 'Survived', 'First_class'],\n",
       " ['Age_Adult', 'Sex_Female', 'Survived', 'First_class'],\n",
       " ['Age_Adult', 'Sex_Female', 'Survived', 'First_class'],\n",
       " ['Age_Adult', 'Sex_Female', 'Survived', 'First_class'],\n",
       " ['Age_Adult', 'Sex_Female', 'Survived', 'First_class'],\n",
       " ['Age_Adult', 'Sex_Female', 'Survived', 'First_class'],\n",
       " ['Age_Adult', 'Sex_Female', 'Survived', 'First_class'],\n",
       " ['Age_Adult', 'Sex_Female', 'Survived', 'First_class'],\n",
       " ['Age_Adult', 'Sex_Female', 'Survived', 'First_class'],\n",
       " ['Age_Adult', 'Sex_Female', 'Survived', 'First_class'],\n",
       " ['Age_Adult', 'Sex_Female', 'Survived', 'First_class'],\n",
       " ['Age_Adult', 'Sex_Female', 'Survived', 'First_class'],\n",
       " ['Age_Adult', 'Sex_Female', 'Survived', 'First_class'],\n",
       " ['Age_Adult', 'Sex_Female', 'Survived', 'First_class'],\n",
       " ['Age_Adult', 'Sex_Female', 'Survived', 'First_class'],\n",
       " ['Age_Adult', 'Sex_Female', 'Survived', 'First_class'],\n",
       " ['Age_Adult', 'Sex_Female', 'Survived', 'First_class'],\n",
       " ['Age_Adult', 'Sex_Female', 'Survived', 'First_class'],\n",
       " ['Age_Adult', 'Sex_Female', 'Survived', 'First_class'],\n",
       " ['Age_Adult', 'Sex_Female', 'Survived', 'First_class'],\n",
       " ['Age_Adult', 'Sex_Female', 'Survived', 'First_class'],\n",
       " ['Age_Adult', 'Sex_Female', 'Survived', 'First_class'],\n",
       " ['Age_Adult', 'Sex_Female', 'Survived', 'First_class'],\n",
       " ['Age_Adult', 'Sex_Female', 'Survived', 'First_class'],\n",
       " ['Age_Adult', 'Sex_Female', 'Survived', 'First_class'],\n",
       " ['Age_Adult', 'Sex_Female', 'Survived', 'First_class'],\n",
       " ['Age_Adult', 'Sex_Female', 'Survived', 'First_class'],\n",
       " ['Age_Adult', 'Sex_Female', 'Survived', 'First_class'],\n",
       " ['Age_Adult', 'Sex_Female', 'Survived', 'First_class'],\n",
       " ['Age_Adult', 'Sex_Female', 'Survived', 'First_class'],\n",
       " ['Age_Adult', 'Sex_Female', 'Survived', 'First_class'],\n",
       " ['Age_Adult', 'Sex_Female', 'Survived', 'First_class'],\n",
       " ['Age_Adult', 'Sex_Female', 'Survived', 'First_class'],\n",
       " ['Age_Adult', 'Sex_Female', 'Survived', 'First_class'],\n",
       " ['Age_Adult', 'Sex_Female', 'Survived', 'First_class'],\n",
       " ['Age_Adult', 'Sex_Female', 'Survived', 'First_class'],\n",
       " ['Age_Adult', 'Sex_Female', 'Survived', 'First_class'],\n",
       " ['Age_Adult', 'Sex_Female', 'Survived', 'First_class'],\n",
       " ['Age_Adult', 'Sex_Female', 'Survived', 'First_class'],\n",
       " ['Age_Adult', 'Sex_Female', 'Survived', 'First_class'],\n",
       " ['Age_Adult', 'Sex_Female', 'Survived', 'First_class'],\n",
       " ['Age_Adult', 'Sex_Female', 'Survived', 'First_class'],\n",
       " ['Age_Adult', 'Sex_Female', 'Survived', 'First_class'],\n",
       " ['Age_Adult', 'Sex_Female', 'Survived', 'First_class'],\n",
       " ['Age_Adult', 'Sex_Female', 'Survived', 'First_class'],\n",
       " ['Age_Adult', 'Sex_Female', 'Survived', 'First_class'],\n",
       " ['Age_Adult', 'Sex_Female', 'Survived', 'First_class'],\n",
       " ['Age_Adult', 'Sex_Female', 'Survived', 'First_class'],\n",
       " ['Age_Adult', 'Sex_Female', 'Survived', 'First_class'],\n",
       " ['Age_Adult', 'Sex_Female', 'Survived', 'First_class'],\n",
       " ['Age_Adult', 'Sex_Female', 'Survived', 'First_class'],\n",
       " ['Age_Adult', 'Sex_Female', 'Survived', 'First_class'],\n",
       " ['Age_Adult', 'Sex_Female', 'Survived', 'First_class'],\n",
       " ['Age_Adult', 'Sex_Female', 'Survived', 'First_class'],\n",
       " ['Age_Adult', 'Sex_Female', 'Survived', 'First_class'],\n",
       " ['Age_Adult', 'Sex_Female', 'Survived', 'First_class'],\n",
       " ['Age_Adult', 'Sex_Female', 'Survived', 'First_class'],\n",
       " ['Age_Adult', 'Sex_Female', 'Survived', 'First_class'],\n",
       " ['Age_Adult', 'Sex_Female', 'Survived', 'First_class'],\n",
       " ['Age_Adult', 'Sex_Female', 'Survived', 'First_class'],\n",
       " ['Age_Adult', 'Sex_Female', 'Survived', 'First_class'],\n",
       " ['Age_Adult', 'Sex_Female', 'Survived', 'First_class'],\n",
       " ['Age_Adult', 'Sex_Female', 'Survived', 'First_class'],\n",
       " ['Age_Adult', 'Sex_Female', 'Survived', 'First_class'],\n",
       " ['Age_Adult', 'Sex_Female', 'Survived', 'First_class'],\n",
       " ['Age_Adult', 'Sex_Female', 'Survived', 'First_class'],\n",
       " ['Age_Adult', 'Sex_Female', 'Survived', 'First_class'],\n",
       " ['Age_Adult', 'Sex_Female', 'Survived', 'First_class'],\n",
       " ['Age_Adult', 'Sex_Female', 'Survived', 'First_class'],\n",
       " ['Age_Adult', 'Sex_Female', 'Survived', 'First_class'],\n",
       " ['Age_Adult', 'Sex_Female', 'Survived', 'First_class'],\n",
       " ['Age_Adult', 'Sex_Female', 'Survived', 'First_class'],\n",
       " ['Age_Adult', 'Sex_Female', 'Survived', 'First_class'],\n",
       " ['Age_Adult', 'Sex_Female', 'Survived', 'First_class'],\n",
       " ['Age_Adult', 'Sex_Female', 'Survived', 'First_class'],\n",
       " ['Age_Adult', 'Sex_Female', 'Survived', 'First_class'],\n",
       " ['Age_Adult', 'Sex_Female', 'Survived', 'First_class'],\n",
       " ['Age_Adult', 'Sex_Female', 'Survived', 'First_class'],\n",
       " ...]"
      ]
     },
     "execution_count": 3,
     "metadata": {},
     "output_type": "execute_result"
    }
   ],
   "source": [
    "#Convert Dataset to List of Lists to prep for Apriori Algorithm\n",
    "titanicDataList = []\n",
    "data_col = titanicData.columns.tolist() # return all columns of the data set into a List\n",
    "\n",
    "#Iterate through each row of the titanic and input appropraite columns as lists for each casualty\n",
    "for casualty_row in titanicData.iterrows(): \n",
    "    casualty_details = [] \n",
    "    for col_details in data_col: \n",
    "        if casualty_row[1][col_details] == 'Yes':\n",
    "            casualty_details.append(col_details)\n",
    "    titanicDataList.append(casualty_details)\n",
    "    \n",
    "titanicDataList"
   ]
  },
  {
   "cell_type": "code",
   "execution_count": 19,
   "id": "59c346dd",
   "metadata": {
    "scrolled": false
   },
   "outputs": [
    {
     "data": {
      "text/html": [
       "<div>\n",
       "<style scoped>\n",
       "    .dataframe tbody tr th:only-of-type {\n",
       "        vertical-align: middle;\n",
       "    }\n",
       "\n",
       "    .dataframe tbody tr th {\n",
       "        vertical-align: top;\n",
       "    }\n",
       "\n",
       "    .dataframe thead th {\n",
       "        text-align: right;\n",
       "    }\n",
       "</style>\n",
       "<table border=\"1\" class=\"dataframe\">\n",
       "  <thead>\n",
       "    <tr style=\"text-align: right;\">\n",
       "      <th></th>\n",
       "      <th>Antecedent</th>\n",
       "      <th>Consequent</th>\n",
       "      <th>Support</th>\n",
       "      <th>Confidence</th>\n",
       "      <th>Lift</th>\n",
       "    </tr>\n",
       "  </thead>\n",
       "  <tbody>\n",
       "    <tr>\n",
       "      <th>0</th>\n",
       "      <td>[]</td>\n",
       "      <td>[Age_Adult]</td>\n",
       "      <td>0.950477</td>\n",
       "      <td>0.950477</td>\n",
       "      <td>1.000000</td>\n",
       "    </tr>\n",
       "    <tr>\n",
       "      <th>1</th>\n",
       "      <td>[]</td>\n",
       "      <td>[Sex_Male]</td>\n",
       "      <td>0.786461</td>\n",
       "      <td>0.786461</td>\n",
       "      <td>1.000000</td>\n",
       "    </tr>\n",
       "    <tr>\n",
       "      <th>2</th>\n",
       "      <td>[Crew_Member]</td>\n",
       "      <td>[Age_Adult]</td>\n",
       "      <td>0.402090</td>\n",
       "      <td>1.000000</td>\n",
       "      <td>1.052103</td>\n",
       "    </tr>\n",
       "    <tr>\n",
       "      <th>3</th>\n",
       "      <td>[First_class]</td>\n",
       "      <td>[Age_Adult]</td>\n",
       "      <td>0.144934</td>\n",
       "      <td>0.981538</td>\n",
       "      <td>1.032680</td>\n",
       "    </tr>\n",
       "    <tr>\n",
       "      <th>4</th>\n",
       "      <td>[Second_class]</td>\n",
       "      <td>[Age_Adult]</td>\n",
       "      <td>0.118582</td>\n",
       "      <td>0.915789</td>\n",
       "      <td>0.963505</td>\n",
       "    </tr>\n",
       "    <tr>\n",
       "      <th>5</th>\n",
       "      <td>[Sex_Female]</td>\n",
       "      <td>[Age_Adult]</td>\n",
       "      <td>0.193094</td>\n",
       "      <td>0.904255</td>\n",
       "      <td>0.951370</td>\n",
       "    </tr>\n",
       "    <tr>\n",
       "      <th>6</th>\n",
       "      <td>[]</td>\n",
       "      <td>[Age_Adult, Sex_Male]</td>\n",
       "      <td>0.757383</td>\n",
       "      <td>0.757383</td>\n",
       "      <td>1.000000</td>\n",
       "    </tr>\n",
       "    <tr>\n",
       "      <th>7</th>\n",
       "      <td>[Age_Adult]</td>\n",
       "      <td>[Sex_Male]</td>\n",
       "      <td>0.757383</td>\n",
       "      <td>0.796845</td>\n",
       "      <td>1.013204</td>\n",
       "    </tr>\n",
       "    <tr>\n",
       "      <th>8</th>\n",
       "      <td>[Sex_Male]</td>\n",
       "      <td>[Age_Adult]</td>\n",
       "      <td>0.757383</td>\n",
       "      <td>0.963027</td>\n",
       "      <td>1.013204</td>\n",
       "    </tr>\n",
       "    <tr>\n",
       "      <th>9</th>\n",
       "      <td>[Survived]</td>\n",
       "      <td>[Age_Adult]</td>\n",
       "      <td>0.297138</td>\n",
       "      <td>0.919831</td>\n",
       "      <td>0.967757</td>\n",
       "    </tr>\n",
       "    <tr>\n",
       "      <th>10</th>\n",
       "      <td>[Third_class]</td>\n",
       "      <td>[Age_Adult]</td>\n",
       "      <td>0.284871</td>\n",
       "      <td>0.888102</td>\n",
       "      <td>0.934375</td>\n",
       "    </tr>\n",
       "    <tr>\n",
       "      <th>11</th>\n",
       "      <td>[Crew_Member]</td>\n",
       "      <td>[Sex_Male]</td>\n",
       "      <td>0.391640</td>\n",
       "      <td>0.974011</td>\n",
       "      <td>1.238474</td>\n",
       "    </tr>\n",
       "    <tr>\n",
       "      <th>12</th>\n",
       "      <td>[Sex_Female]</td>\n",
       "      <td>[Survived]</td>\n",
       "      <td>0.156293</td>\n",
       "      <td>0.731915</td>\n",
       "      <td>2.265745</td>\n",
       "    </tr>\n",
       "    <tr>\n",
       "      <th>13</th>\n",
       "      <td>[Third_class]</td>\n",
       "      <td>[Sex_Male]</td>\n",
       "      <td>0.231713</td>\n",
       "      <td>0.722380</td>\n",
       "      <td>0.918520</td>\n",
       "    </tr>\n",
       "    <tr>\n",
       "      <th>14</th>\n",
       "      <td>[Crew_Member]</td>\n",
       "      <td>[Age_Adult, Sex_Male]</td>\n",
       "      <td>0.391640</td>\n",
       "      <td>0.974011</td>\n",
       "      <td>1.286022</td>\n",
       "    </tr>\n",
       "    <tr>\n",
       "      <th>15</th>\n",
       "      <td>[Crew_Member, Age_Adult]</td>\n",
       "      <td>[Sex_Male]</td>\n",
       "      <td>0.391640</td>\n",
       "      <td>0.974011</td>\n",
       "      <td>1.238474</td>\n",
       "    </tr>\n",
       "    <tr>\n",
       "      <th>16</th>\n",
       "      <td>[Crew_Member, Sex_Male]</td>\n",
       "      <td>[Age_Adult]</td>\n",
       "      <td>0.391640</td>\n",
       "      <td>1.000000</td>\n",
       "      <td>1.052103</td>\n",
       "    </tr>\n",
       "    <tr>\n",
       "      <th>17</th>\n",
       "      <td>[Sex_Female]</td>\n",
       "      <td>[Survived, Age_Adult]</td>\n",
       "      <td>0.143571</td>\n",
       "      <td>0.672340</td>\n",
       "      <td>2.262724</td>\n",
       "    </tr>\n",
       "    <tr>\n",
       "      <th>18</th>\n",
       "      <td>[Sex_Female, Age_Adult]</td>\n",
       "      <td>[Survived]</td>\n",
       "      <td>0.143571</td>\n",
       "      <td>0.743529</td>\n",
       "      <td>2.301699</td>\n",
       "    </tr>\n",
       "    <tr>\n",
       "      <th>19</th>\n",
       "      <td>[Sex_Female, Survived]</td>\n",
       "      <td>[Age_Adult]</td>\n",
       "      <td>0.143571</td>\n",
       "      <td>0.918605</td>\n",
       "      <td>0.966467</td>\n",
       "    </tr>\n",
       "    <tr>\n",
       "      <th>20</th>\n",
       "      <td>[Survived, Sex_Male]</td>\n",
       "      <td>[Age_Adult]</td>\n",
       "      <td>0.153567</td>\n",
       "      <td>0.920981</td>\n",
       "      <td>0.968967</td>\n",
       "    </tr>\n",
       "    <tr>\n",
       "      <th>21</th>\n",
       "      <td>[Third_class]</td>\n",
       "      <td>[Age_Adult, Sex_Male]</td>\n",
       "      <td>0.209905</td>\n",
       "      <td>0.654391</td>\n",
       "      <td>0.864016</td>\n",
       "    </tr>\n",
       "    <tr>\n",
       "      <th>22</th>\n",
       "      <td>[Third_class, Age_Adult]</td>\n",
       "      <td>[Sex_Male]</td>\n",
       "      <td>0.209905</td>\n",
       "      <td>0.736842</td>\n",
       "      <td>0.936909</td>\n",
       "    </tr>\n",
       "    <tr>\n",
       "      <th>23</th>\n",
       "      <td>[Third_class, Sex_Male]</td>\n",
       "      <td>[Age_Adult]</td>\n",
       "      <td>0.209905</td>\n",
       "      <td>0.905882</td>\n",
       "      <td>0.953082</td>\n",
       "    </tr>\n",
       "  </tbody>\n",
       "</table>\n",
       "</div>"
      ],
      "text/plain": [
       "                  Antecedent             Consequent   Support  Confidence  \\\n",
       "0                         []            [Age_Adult]  0.950477    0.950477   \n",
       "1                         []             [Sex_Male]  0.786461    0.786461   \n",
       "2              [Crew_Member]            [Age_Adult]  0.402090    1.000000   \n",
       "3              [First_class]            [Age_Adult]  0.144934    0.981538   \n",
       "4             [Second_class]            [Age_Adult]  0.118582    0.915789   \n",
       "5               [Sex_Female]            [Age_Adult]  0.193094    0.904255   \n",
       "6                         []  [Age_Adult, Sex_Male]  0.757383    0.757383   \n",
       "7                [Age_Adult]             [Sex_Male]  0.757383    0.796845   \n",
       "8                 [Sex_Male]            [Age_Adult]  0.757383    0.963027   \n",
       "9                 [Survived]            [Age_Adult]  0.297138    0.919831   \n",
       "10             [Third_class]            [Age_Adult]  0.284871    0.888102   \n",
       "11             [Crew_Member]             [Sex_Male]  0.391640    0.974011   \n",
       "12              [Sex_Female]             [Survived]  0.156293    0.731915   \n",
       "13             [Third_class]             [Sex_Male]  0.231713    0.722380   \n",
       "14             [Crew_Member]  [Age_Adult, Sex_Male]  0.391640    0.974011   \n",
       "15  [Crew_Member, Age_Adult]             [Sex_Male]  0.391640    0.974011   \n",
       "16   [Crew_Member, Sex_Male]            [Age_Adult]  0.391640    1.000000   \n",
       "17              [Sex_Female]  [Survived, Age_Adult]  0.143571    0.672340   \n",
       "18   [Sex_Female, Age_Adult]             [Survived]  0.143571    0.743529   \n",
       "19    [Sex_Female, Survived]            [Age_Adult]  0.143571    0.918605   \n",
       "20      [Survived, Sex_Male]            [Age_Adult]  0.153567    0.920981   \n",
       "21             [Third_class]  [Age_Adult, Sex_Male]  0.209905    0.654391   \n",
       "22  [Third_class, Age_Adult]             [Sex_Male]  0.209905    0.736842   \n",
       "23   [Third_class, Sex_Male]            [Age_Adult]  0.209905    0.905882   \n",
       "\n",
       "        Lift  \n",
       "0   1.000000  \n",
       "1   1.000000  \n",
       "2   1.052103  \n",
       "3   1.032680  \n",
       "4   0.963505  \n",
       "5   0.951370  \n",
       "6   1.000000  \n",
       "7   1.013204  \n",
       "8   1.013204  \n",
       "9   0.967757  \n",
       "10  0.934375  \n",
       "11  1.238474  \n",
       "12  2.265745  \n",
       "13  0.918520  \n",
       "14  1.286022  \n",
       "15  1.238474  \n",
       "16  1.052103  \n",
       "17  2.262724  \n",
       "18  2.301699  \n",
       "19  0.966467  \n",
       "20  0.968967  \n",
       "21  0.864016  \n",
       "22  0.936909  \n",
       "23  0.953082  "
      ]
     },
     "execution_count": 19,
     "metadata": {},
     "output_type": "execute_result"
    }
   ],
   "source": [
    "#Create Association rules, taking the minimun support as 0.05 and Confidence as 0.5\n",
    "#Applying Apriori Algorithm\n",
    "titanicData_Rules = list(apriori(titanicDataList, min_support = 0.1, min_confidence = 0.6))\n",
    "\n",
    "#Use stored extract functon in utils to extract  Rules and fit in a Dataframe\n",
    "extracted_titanicData_Rules = utils.extract(titanicData_Rules)\n",
    "# OR extracted_titanicData_Rules = utils.extract(titanicData_Rules, , 'Survived', 2) to filter on survived\n",
    "extracted_titanicData_Rules = pd.DataFrame(extracted_titanicData_Rules, \n",
    "                                           columns=['Antecedent', \n",
    "                                                    'Consequent', \n",
    "                                                    'Support', \n",
    "                                                    'Confidence', \n",
    "                                                    'Lift']\n",
    "                                          )\n",
    "\n",
    "extracted_titanicData_Rules\n"
   ]
  },
  {
   "cell_type": "markdown",
   "id": "25fd2d86",
   "metadata": {},
   "source": [
    "A Minimum support of 0.1 was applied in the Algorith on the basis that at least 10% of the passengers support the associative rules. In addition, at least 60% of the consequent should be found to be true when the antecedent is true ergo a minimum confidence of 0.6. \n",
    "\n",
    "Twenty Four (24) Associative rules generated met the minimum support and confidence set. "
   ]
  },
  {
   "cell_type": "code",
   "execution_count": 42,
   "id": "1e6c4623",
   "metadata": {},
   "outputs": [
    {
     "name": "stdout",
     "output_type": "stream",
     "text": [
      "Requirement already satisfied: plotly==5.10.0 in c:\\users\\hp\\anaconda3\\lib\\site-packages (5.10.0)\n",
      "Requirement already satisfied: tenacity>=6.2.0 in c:\\users\\hp\\anaconda3\\lib\\site-packages (from plotly==5.10.0) (8.0.1)\n"
     ]
    }
   ],
   "source": [
    "!pip install plotly==5.10.0\n",
    "\n"
   ]
  },
  {
   "cell_type": "code",
   "execution_count": 45,
   "id": "71d4e1b4",
   "metadata": {},
   "outputs": [
    {
     "data": {
      "application/vnd.plotly.v1+json": {
       "config": {
        "plotlyServerURL": "https://plot.ly"
       },
       "data": [
        {
         "customdata": [
          [
           [],
           [
            "Age_Adult"
           ]
          ],
          [
           [],
           [
            "Sex_Male"
           ]
          ],
          [
           [
            "Crew_Member"
           ],
           [
            "Age_Adult"
           ]
          ],
          [
           [
            "First_class"
           ],
           [
            "Age_Adult"
           ]
          ],
          [
           [
            "Second_class"
           ],
           [
            "Age_Adult"
           ]
          ],
          [
           [
            "Sex_Female"
           ],
           [
            "Age_Adult"
           ]
          ],
          [
           [],
           [
            "Age_Adult",
            "Sex_Male"
           ]
          ],
          [
           [
            "Age_Adult"
           ],
           [
            "Sex_Male"
           ]
          ],
          [
           [
            "Sex_Male"
           ],
           [
            "Age_Adult"
           ]
          ],
          [
           [
            "Survived"
           ],
           [
            "Age_Adult"
           ]
          ],
          [
           [
            "Third_class"
           ],
           [
            "Age_Adult"
           ]
          ],
          [
           [
            "Crew_Member"
           ],
           [
            "Sex_Male"
           ]
          ],
          [
           [
            "Sex_Female"
           ],
           [
            "Survived"
           ]
          ],
          [
           [
            "Third_class"
           ],
           [
            "Sex_Male"
           ]
          ],
          [
           [
            "Crew_Member"
           ],
           [
            "Age_Adult",
            "Sex_Male"
           ]
          ],
          [
           [
            "Crew_Member",
            "Age_Adult"
           ],
           [
            "Sex_Male"
           ]
          ],
          [
           [
            "Crew_Member",
            "Sex_Male"
           ],
           [
            "Age_Adult"
           ]
          ],
          [
           [
            "Sex_Female"
           ],
           [
            "Survived",
            "Age_Adult"
           ]
          ],
          [
           [
            "Sex_Female",
            "Age_Adult"
           ],
           [
            "Survived"
           ]
          ],
          [
           [
            "Sex_Female",
            "Survived"
           ],
           [
            "Age_Adult"
           ]
          ],
          [
           [
            "Survived",
            "Sex_Male"
           ],
           [
            "Age_Adult"
           ]
          ],
          [
           [
            "Third_class"
           ],
           [
            "Age_Adult",
            "Sex_Male"
           ]
          ],
          [
           [
            "Third_class",
            "Age_Adult"
           ],
           [
            "Sex_Male"
           ]
          ],
          [
           [
            "Third_class",
            "Sex_Male"
           ],
           [
            "Age_Adult"
           ]
          ]
         ],
         "hovertemplate": "Support=%{x}<br>Confidence=%{y}<br>Antecedent=%{customdata[0]}<br>Consequent=%{customdata[1]}<br>Lift=%{marker.color}<extra></extra>",
         "legendgroup": "",
         "marker": {
          "color": [
           1,
           1,
           1.0521032504780115,
           1.032679805853802,
           0.963505082016705,
           0.9513699605386274,
           1,
           1.0132039968497082,
           1.0132039968497082,
           0.9677574202709136,
           0.9343749830732481,
           1.2384742172481207,
           2.2657449800999494,
           0.9185196459168996,
           1.286022117610376,
           1.2384742172481207,
           1.0521032504780115,
           2.2627236645194873,
           2.301699346405229,
           0.9664669393925918,
           0.968967026325798,
           0.8640158653821645,
           0.9369089969290645,
           0.9530817680800809
          ],
          "coloraxis": "coloraxis",
          "symbol": "circle"
         },
         "mode": "markers",
         "name": "",
         "orientation": "v",
         "showlegend": false,
         "type": "scatter",
         "x": [
          0.9504770558836892,
          0.7864606996819627,
          0.4020899591094957,
          0.1449341208541572,
          0.1185824625170377,
          0.1930940481599273,
          0.7573830077237619,
          0.7573830077237619,
          0.7573830077237619,
          0.2971376646978646,
          0.2848705134029986,
          0.39164016356201725,
          0.1562925942753294,
          0.23171285779191278,
          0.39164016356201725,
          0.39164016356201725,
          0.39164016356201725,
          0.14357110404361653,
          0.14357110404361653,
          0.14357110404361653,
          0.15356656065424806,
          0.20990458882326216,
          0.20990458882326216,
          0.20990458882326216
         ],
         "xaxis": "x",
         "y": [
          0.9504770558836892,
          0.7864606996819627,
          1,
          0.9815384615384615,
          0.9157894736842104,
          0.9042553191489362,
          0.7573830077237619,
          0.7968451242829827,
          0.9630271519352974,
          0.9198312236286921,
          0.8881019830028328,
          0.9740112994350282,
          0.7319148936170213,
          0.7223796033994335,
          0.9740112994350282,
          0.9740112994350282,
          1,
          0.6723404255319149,
          0.7435294117647059,
          0.9186046511627906,
          0.9209809264305177,
          0.6543909348441926,
          0.736842105263158,
          0.9058823529411765
         ],
         "yaxis": "y"
        }
       ],
       "layout": {
        "coloraxis": {
         "colorbar": {
          "title": {
           "text": "Lift"
          }
         },
         "colorscale": [
          [
           0,
           "rgb(75, 41, 145)"
          ],
          [
           0.16666666666666666,
           "rgb(135, 44, 162)"
          ],
          [
           0.3333333333333333,
           "rgb(192, 54, 157)"
          ],
          [
           0.5,
           "rgb(234, 79, 136)"
          ],
          [
           0.6666666666666666,
           "rgb(250, 120, 118)"
          ],
          [
           0.8333333333333334,
           "rgb(246, 169, 122)"
          ],
          [
           1,
           "rgb(237, 217, 163)"
          ]
         ]
        },
        "legend": {
         "tracegroupgap": 0
        },
        "margin": {
         "t": 60
        },
        "template": {
         "data": {
          "bar": [
           {
            "error_x": {
             "color": "#2a3f5f"
            },
            "error_y": {
             "color": "#2a3f5f"
            },
            "marker": {
             "line": {
              "color": "#E5ECF6",
              "width": 0.5
             },
             "pattern": {
              "fillmode": "overlay",
              "size": 10,
              "solidity": 0.2
             }
            },
            "type": "bar"
           }
          ],
          "barpolar": [
           {
            "marker": {
             "line": {
              "color": "#E5ECF6",
              "width": 0.5
             },
             "pattern": {
              "fillmode": "overlay",
              "size": 10,
              "solidity": 0.2
             }
            },
            "type": "barpolar"
           }
          ],
          "carpet": [
           {
            "aaxis": {
             "endlinecolor": "#2a3f5f",
             "gridcolor": "white",
             "linecolor": "white",
             "minorgridcolor": "white",
             "startlinecolor": "#2a3f5f"
            },
            "baxis": {
             "endlinecolor": "#2a3f5f",
             "gridcolor": "white",
             "linecolor": "white",
             "minorgridcolor": "white",
             "startlinecolor": "#2a3f5f"
            },
            "type": "carpet"
           }
          ],
          "choropleth": [
           {
            "colorbar": {
             "outlinewidth": 0,
             "ticks": ""
            },
            "type": "choropleth"
           }
          ],
          "contour": [
           {
            "colorbar": {
             "outlinewidth": 0,
             "ticks": ""
            },
            "colorscale": [
             [
              0,
              "#0d0887"
             ],
             [
              0.1111111111111111,
              "#46039f"
             ],
             [
              0.2222222222222222,
              "#7201a8"
             ],
             [
              0.3333333333333333,
              "#9c179e"
             ],
             [
              0.4444444444444444,
              "#bd3786"
             ],
             [
              0.5555555555555556,
              "#d8576b"
             ],
             [
              0.6666666666666666,
              "#ed7953"
             ],
             [
              0.7777777777777778,
              "#fb9f3a"
             ],
             [
              0.8888888888888888,
              "#fdca26"
             ],
             [
              1,
              "#f0f921"
             ]
            ],
            "type": "contour"
           }
          ],
          "contourcarpet": [
           {
            "colorbar": {
             "outlinewidth": 0,
             "ticks": ""
            },
            "type": "contourcarpet"
           }
          ],
          "heatmap": [
           {
            "colorbar": {
             "outlinewidth": 0,
             "ticks": ""
            },
            "colorscale": [
             [
              0,
              "#0d0887"
             ],
             [
              0.1111111111111111,
              "#46039f"
             ],
             [
              0.2222222222222222,
              "#7201a8"
             ],
             [
              0.3333333333333333,
              "#9c179e"
             ],
             [
              0.4444444444444444,
              "#bd3786"
             ],
             [
              0.5555555555555556,
              "#d8576b"
             ],
             [
              0.6666666666666666,
              "#ed7953"
             ],
             [
              0.7777777777777778,
              "#fb9f3a"
             ],
             [
              0.8888888888888888,
              "#fdca26"
             ],
             [
              1,
              "#f0f921"
             ]
            ],
            "type": "heatmap"
           }
          ],
          "heatmapgl": [
           {
            "colorbar": {
             "outlinewidth": 0,
             "ticks": ""
            },
            "colorscale": [
             [
              0,
              "#0d0887"
             ],
             [
              0.1111111111111111,
              "#46039f"
             ],
             [
              0.2222222222222222,
              "#7201a8"
             ],
             [
              0.3333333333333333,
              "#9c179e"
             ],
             [
              0.4444444444444444,
              "#bd3786"
             ],
             [
              0.5555555555555556,
              "#d8576b"
             ],
             [
              0.6666666666666666,
              "#ed7953"
             ],
             [
              0.7777777777777778,
              "#fb9f3a"
             ],
             [
              0.8888888888888888,
              "#fdca26"
             ],
             [
              1,
              "#f0f921"
             ]
            ],
            "type": "heatmapgl"
           }
          ],
          "histogram": [
           {
            "marker": {
             "pattern": {
              "fillmode": "overlay",
              "size": 10,
              "solidity": 0.2
             }
            },
            "type": "histogram"
           }
          ],
          "histogram2d": [
           {
            "colorbar": {
             "outlinewidth": 0,
             "ticks": ""
            },
            "colorscale": [
             [
              0,
              "#0d0887"
             ],
             [
              0.1111111111111111,
              "#46039f"
             ],
             [
              0.2222222222222222,
              "#7201a8"
             ],
             [
              0.3333333333333333,
              "#9c179e"
             ],
             [
              0.4444444444444444,
              "#bd3786"
             ],
             [
              0.5555555555555556,
              "#d8576b"
             ],
             [
              0.6666666666666666,
              "#ed7953"
             ],
             [
              0.7777777777777778,
              "#fb9f3a"
             ],
             [
              0.8888888888888888,
              "#fdca26"
             ],
             [
              1,
              "#f0f921"
             ]
            ],
            "type": "histogram2d"
           }
          ],
          "histogram2dcontour": [
           {
            "colorbar": {
             "outlinewidth": 0,
             "ticks": ""
            },
            "colorscale": [
             [
              0,
              "#0d0887"
             ],
             [
              0.1111111111111111,
              "#46039f"
             ],
             [
              0.2222222222222222,
              "#7201a8"
             ],
             [
              0.3333333333333333,
              "#9c179e"
             ],
             [
              0.4444444444444444,
              "#bd3786"
             ],
             [
              0.5555555555555556,
              "#d8576b"
             ],
             [
              0.6666666666666666,
              "#ed7953"
             ],
             [
              0.7777777777777778,
              "#fb9f3a"
             ],
             [
              0.8888888888888888,
              "#fdca26"
             ],
             [
              1,
              "#f0f921"
             ]
            ],
            "type": "histogram2dcontour"
           }
          ],
          "mesh3d": [
           {
            "colorbar": {
             "outlinewidth": 0,
             "ticks": ""
            },
            "type": "mesh3d"
           }
          ],
          "parcoords": [
           {
            "line": {
             "colorbar": {
              "outlinewidth": 0,
              "ticks": ""
             }
            },
            "type": "parcoords"
           }
          ],
          "pie": [
           {
            "automargin": true,
            "type": "pie"
           }
          ],
          "scatter": [
           {
            "fillpattern": {
             "fillmode": "overlay",
             "size": 10,
             "solidity": 0.2
            },
            "type": "scatter"
           }
          ],
          "scatter3d": [
           {
            "line": {
             "colorbar": {
              "outlinewidth": 0,
              "ticks": ""
             }
            },
            "marker": {
             "colorbar": {
              "outlinewidth": 0,
              "ticks": ""
             }
            },
            "type": "scatter3d"
           }
          ],
          "scattercarpet": [
           {
            "marker": {
             "colorbar": {
              "outlinewidth": 0,
              "ticks": ""
             }
            },
            "type": "scattercarpet"
           }
          ],
          "scattergeo": [
           {
            "marker": {
             "colorbar": {
              "outlinewidth": 0,
              "ticks": ""
             }
            },
            "type": "scattergeo"
           }
          ],
          "scattergl": [
           {
            "marker": {
             "colorbar": {
              "outlinewidth": 0,
              "ticks": ""
             }
            },
            "type": "scattergl"
           }
          ],
          "scattermapbox": [
           {
            "marker": {
             "colorbar": {
              "outlinewidth": 0,
              "ticks": ""
             }
            },
            "type": "scattermapbox"
           }
          ],
          "scatterpolar": [
           {
            "marker": {
             "colorbar": {
              "outlinewidth": 0,
              "ticks": ""
             }
            },
            "type": "scatterpolar"
           }
          ],
          "scatterpolargl": [
           {
            "marker": {
             "colorbar": {
              "outlinewidth": 0,
              "ticks": ""
             }
            },
            "type": "scatterpolargl"
           }
          ],
          "scatterternary": [
           {
            "marker": {
             "colorbar": {
              "outlinewidth": 0,
              "ticks": ""
             }
            },
            "type": "scatterternary"
           }
          ],
          "surface": [
           {
            "colorbar": {
             "outlinewidth": 0,
             "ticks": ""
            },
            "colorscale": [
             [
              0,
              "#0d0887"
             ],
             [
              0.1111111111111111,
              "#46039f"
             ],
             [
              0.2222222222222222,
              "#7201a8"
             ],
             [
              0.3333333333333333,
              "#9c179e"
             ],
             [
              0.4444444444444444,
              "#bd3786"
             ],
             [
              0.5555555555555556,
              "#d8576b"
             ],
             [
              0.6666666666666666,
              "#ed7953"
             ],
             [
              0.7777777777777778,
              "#fb9f3a"
             ],
             [
              0.8888888888888888,
              "#fdca26"
             ],
             [
              1,
              "#f0f921"
             ]
            ],
            "type": "surface"
           }
          ],
          "table": [
           {
            "cells": {
             "fill": {
              "color": "#EBF0F8"
             },
             "line": {
              "color": "white"
             }
            },
            "header": {
             "fill": {
              "color": "#C8D4E3"
             },
             "line": {
              "color": "white"
             }
            },
            "type": "table"
           }
          ]
         },
         "layout": {
          "annotationdefaults": {
           "arrowcolor": "#2a3f5f",
           "arrowhead": 0,
           "arrowwidth": 1
          },
          "autotypenumbers": "strict",
          "coloraxis": {
           "colorbar": {
            "outlinewidth": 0,
            "ticks": ""
           }
          },
          "colorscale": {
           "diverging": [
            [
             0,
             "#8e0152"
            ],
            [
             0.1,
             "#c51b7d"
            ],
            [
             0.2,
             "#de77ae"
            ],
            [
             0.3,
             "#f1b6da"
            ],
            [
             0.4,
             "#fde0ef"
            ],
            [
             0.5,
             "#f7f7f7"
            ],
            [
             0.6,
             "#e6f5d0"
            ],
            [
             0.7,
             "#b8e186"
            ],
            [
             0.8,
             "#7fbc41"
            ],
            [
             0.9,
             "#4d9221"
            ],
            [
             1,
             "#276419"
            ]
           ],
           "sequential": [
            [
             0,
             "#0d0887"
            ],
            [
             0.1111111111111111,
             "#46039f"
            ],
            [
             0.2222222222222222,
             "#7201a8"
            ],
            [
             0.3333333333333333,
             "#9c179e"
            ],
            [
             0.4444444444444444,
             "#bd3786"
            ],
            [
             0.5555555555555556,
             "#d8576b"
            ],
            [
             0.6666666666666666,
             "#ed7953"
            ],
            [
             0.7777777777777778,
             "#fb9f3a"
            ],
            [
             0.8888888888888888,
             "#fdca26"
            ],
            [
             1,
             "#f0f921"
            ]
           ],
           "sequentialminus": [
            [
             0,
             "#0d0887"
            ],
            [
             0.1111111111111111,
             "#46039f"
            ],
            [
             0.2222222222222222,
             "#7201a8"
            ],
            [
             0.3333333333333333,
             "#9c179e"
            ],
            [
             0.4444444444444444,
             "#bd3786"
            ],
            [
             0.5555555555555556,
             "#d8576b"
            ],
            [
             0.6666666666666666,
             "#ed7953"
            ],
            [
             0.7777777777777778,
             "#fb9f3a"
            ],
            [
             0.8888888888888888,
             "#fdca26"
            ],
            [
             1,
             "#f0f921"
            ]
           ]
          },
          "colorway": [
           "#636efa",
           "#EF553B",
           "#00cc96",
           "#ab63fa",
           "#FFA15A",
           "#19d3f3",
           "#FF6692",
           "#B6E880",
           "#FF97FF",
           "#FECB52"
          ],
          "font": {
           "color": "#2a3f5f"
          },
          "geo": {
           "bgcolor": "white",
           "lakecolor": "white",
           "landcolor": "#E5ECF6",
           "showlakes": true,
           "showland": true,
           "subunitcolor": "white"
          },
          "hoverlabel": {
           "align": "left"
          },
          "hovermode": "closest",
          "mapbox": {
           "style": "light"
          },
          "paper_bgcolor": "white",
          "plot_bgcolor": "#E5ECF6",
          "polar": {
           "angularaxis": {
            "gridcolor": "white",
            "linecolor": "white",
            "ticks": ""
           },
           "bgcolor": "#E5ECF6",
           "radialaxis": {
            "gridcolor": "white",
            "linecolor": "white",
            "ticks": ""
           }
          },
          "scene": {
           "xaxis": {
            "backgroundcolor": "#E5ECF6",
            "gridcolor": "white",
            "gridwidth": 2,
            "linecolor": "white",
            "showbackground": true,
            "ticks": "",
            "zerolinecolor": "white"
           },
           "yaxis": {
            "backgroundcolor": "#E5ECF6",
            "gridcolor": "white",
            "gridwidth": 2,
            "linecolor": "white",
            "showbackground": true,
            "ticks": "",
            "zerolinecolor": "white"
           },
           "zaxis": {
            "backgroundcolor": "#E5ECF6",
            "gridcolor": "white",
            "gridwidth": 2,
            "linecolor": "white",
            "showbackground": true,
            "ticks": "",
            "zerolinecolor": "white"
           }
          },
          "shapedefaults": {
           "line": {
            "color": "#2a3f5f"
           }
          },
          "ternary": {
           "aaxis": {
            "gridcolor": "white",
            "linecolor": "white",
            "ticks": ""
           },
           "baxis": {
            "gridcolor": "white",
            "linecolor": "white",
            "ticks": ""
           },
           "bgcolor": "#E5ECF6",
           "caxis": {
            "gridcolor": "white",
            "linecolor": "white",
            "ticks": ""
           }
          },
          "title": {
           "x": 0.05
          },
          "xaxis": {
           "automargin": true,
           "gridcolor": "white",
           "linecolor": "white",
           "ticks": "",
           "title": {
            "standoff": 15
           },
           "zerolinecolor": "white",
           "zerolinewidth": 2
          },
          "yaxis": {
           "automargin": true,
           "gridcolor": "white",
           "linecolor": "white",
           "ticks": "",
           "title": {
            "standoff": 15
           },
           "zerolinecolor": "white",
           "zerolinewidth": 2
          }
         }
        },
        "xaxis": {
         "anchor": "y",
         "domain": [
          0,
          1
         ],
         "title": {
          "text": "Support"
         }
        },
        "yaxis": {
         "anchor": "x",
         "domain": [
          0,
          1
         ],
         "title": {
          "text": "Confidence"
         }
        }
       }
      },
      "text/html": [
       "<div>                            <div id=\"ee9269b3-dfef-4014-8d64-b7f0c14e14b4\" class=\"plotly-graph-div\" style=\"height:525px; width:100%;\"></div>            <script type=\"text/javascript\">                require([\"plotly\"], function(Plotly) {                    window.PLOTLYENV=window.PLOTLYENV || {};                                    if (document.getElementById(\"ee9269b3-dfef-4014-8d64-b7f0c14e14b4\")) {                    Plotly.newPlot(                        \"ee9269b3-dfef-4014-8d64-b7f0c14e14b4\",                        [{\"customdata\":[[[],[\"Age_Adult\"]],[[],[\"Sex_Male\"]],[[\"Crew_Member\"],[\"Age_Adult\"]],[[\"First_class\"],[\"Age_Adult\"]],[[\"Second_class\"],[\"Age_Adult\"]],[[\"Sex_Female\"],[\"Age_Adult\"]],[[],[\"Age_Adult\",\"Sex_Male\"]],[[\"Age_Adult\"],[\"Sex_Male\"]],[[\"Sex_Male\"],[\"Age_Adult\"]],[[\"Survived\"],[\"Age_Adult\"]],[[\"Third_class\"],[\"Age_Adult\"]],[[\"Crew_Member\"],[\"Sex_Male\"]],[[\"Sex_Female\"],[\"Survived\"]],[[\"Third_class\"],[\"Sex_Male\"]],[[\"Crew_Member\"],[\"Age_Adult\",\"Sex_Male\"]],[[\"Crew_Member\",\"Age_Adult\"],[\"Sex_Male\"]],[[\"Crew_Member\",\"Sex_Male\"],[\"Age_Adult\"]],[[\"Sex_Female\"],[\"Survived\",\"Age_Adult\"]],[[\"Sex_Female\",\"Age_Adult\"],[\"Survived\"]],[[\"Sex_Female\",\"Survived\"],[\"Age_Adult\"]],[[\"Survived\",\"Sex_Male\"],[\"Age_Adult\"]],[[\"Third_class\"],[\"Age_Adult\",\"Sex_Male\"]],[[\"Third_class\",\"Age_Adult\"],[\"Sex_Male\"]],[[\"Third_class\",\"Sex_Male\"],[\"Age_Adult\"]]],\"hovertemplate\":\"Support=%{x}<br>Confidence=%{y}<br>Antecedent=%{customdata[0]}<br>Consequent=%{customdata[1]}<br>Lift=%{marker.color}<extra></extra>\",\"legendgroup\":\"\",\"marker\":{\"color\":[1.0,1.0,1.0521032504780115,1.032679805853802,0.963505082016705,0.9513699605386274,1.0,1.0132039968497082,1.0132039968497082,0.9677574202709136,0.9343749830732481,1.2384742172481207,2.2657449800999494,0.9185196459168996,1.286022117610376,1.2384742172481207,1.0521032504780115,2.2627236645194873,2.301699346405229,0.9664669393925918,0.968967026325798,0.8640158653821645,0.9369089969290645,0.9530817680800809],\"coloraxis\":\"coloraxis\",\"symbol\":\"circle\"},\"mode\":\"markers\",\"name\":\"\",\"orientation\":\"v\",\"showlegend\":false,\"x\":[0.9504770558836892,0.7864606996819627,0.4020899591094957,0.1449341208541572,0.1185824625170377,0.1930940481599273,0.7573830077237619,0.7573830077237619,0.7573830077237619,0.2971376646978646,0.2848705134029986,0.39164016356201725,0.1562925942753294,0.23171285779191278,0.39164016356201725,0.39164016356201725,0.39164016356201725,0.14357110404361653,0.14357110404361653,0.14357110404361653,0.15356656065424806,0.20990458882326216,0.20990458882326216,0.20990458882326216],\"xaxis\":\"x\",\"y\":[0.9504770558836892,0.7864606996819627,1.0,0.9815384615384615,0.9157894736842104,0.9042553191489362,0.7573830077237619,0.7968451242829827,0.9630271519352974,0.9198312236286921,0.8881019830028328,0.9740112994350282,0.7319148936170213,0.7223796033994335,0.9740112994350282,0.9740112994350282,1.0,0.6723404255319149,0.7435294117647059,0.9186046511627906,0.9209809264305177,0.6543909348441926,0.736842105263158,0.9058823529411765],\"yaxis\":\"y\",\"type\":\"scatter\"}],                        {\"template\":{\"data\":{\"histogram2dcontour\":[{\"type\":\"histogram2dcontour\",\"colorbar\":{\"outlinewidth\":0,\"ticks\":\"\"},\"colorscale\":[[0.0,\"#0d0887\"],[0.1111111111111111,\"#46039f\"],[0.2222222222222222,\"#7201a8\"],[0.3333333333333333,\"#9c179e\"],[0.4444444444444444,\"#bd3786\"],[0.5555555555555556,\"#d8576b\"],[0.6666666666666666,\"#ed7953\"],[0.7777777777777778,\"#fb9f3a\"],[0.8888888888888888,\"#fdca26\"],[1.0,\"#f0f921\"]]}],\"choropleth\":[{\"type\":\"choropleth\",\"colorbar\":{\"outlinewidth\":0,\"ticks\":\"\"}}],\"histogram2d\":[{\"type\":\"histogram2d\",\"colorbar\":{\"outlinewidth\":0,\"ticks\":\"\"},\"colorscale\":[[0.0,\"#0d0887\"],[0.1111111111111111,\"#46039f\"],[0.2222222222222222,\"#7201a8\"],[0.3333333333333333,\"#9c179e\"],[0.4444444444444444,\"#bd3786\"],[0.5555555555555556,\"#d8576b\"],[0.6666666666666666,\"#ed7953\"],[0.7777777777777778,\"#fb9f3a\"],[0.8888888888888888,\"#fdca26\"],[1.0,\"#f0f921\"]]}],\"heatmap\":[{\"type\":\"heatmap\",\"colorbar\":{\"outlinewidth\":0,\"ticks\":\"\"},\"colorscale\":[[0.0,\"#0d0887\"],[0.1111111111111111,\"#46039f\"],[0.2222222222222222,\"#7201a8\"],[0.3333333333333333,\"#9c179e\"],[0.4444444444444444,\"#bd3786\"],[0.5555555555555556,\"#d8576b\"],[0.6666666666666666,\"#ed7953\"],[0.7777777777777778,\"#fb9f3a\"],[0.8888888888888888,\"#fdca26\"],[1.0,\"#f0f921\"]]}],\"heatmapgl\":[{\"type\":\"heatmapgl\",\"colorbar\":{\"outlinewidth\":0,\"ticks\":\"\"},\"colorscale\":[[0.0,\"#0d0887\"],[0.1111111111111111,\"#46039f\"],[0.2222222222222222,\"#7201a8\"],[0.3333333333333333,\"#9c179e\"],[0.4444444444444444,\"#bd3786\"],[0.5555555555555556,\"#d8576b\"],[0.6666666666666666,\"#ed7953\"],[0.7777777777777778,\"#fb9f3a\"],[0.8888888888888888,\"#fdca26\"],[1.0,\"#f0f921\"]]}],\"contourcarpet\":[{\"type\":\"contourcarpet\",\"colorbar\":{\"outlinewidth\":0,\"ticks\":\"\"}}],\"contour\":[{\"type\":\"contour\",\"colorbar\":{\"outlinewidth\":0,\"ticks\":\"\"},\"colorscale\":[[0.0,\"#0d0887\"],[0.1111111111111111,\"#46039f\"],[0.2222222222222222,\"#7201a8\"],[0.3333333333333333,\"#9c179e\"],[0.4444444444444444,\"#bd3786\"],[0.5555555555555556,\"#d8576b\"],[0.6666666666666666,\"#ed7953\"],[0.7777777777777778,\"#fb9f3a\"],[0.8888888888888888,\"#fdca26\"],[1.0,\"#f0f921\"]]}],\"surface\":[{\"type\":\"surface\",\"colorbar\":{\"outlinewidth\":0,\"ticks\":\"\"},\"colorscale\":[[0.0,\"#0d0887\"],[0.1111111111111111,\"#46039f\"],[0.2222222222222222,\"#7201a8\"],[0.3333333333333333,\"#9c179e\"],[0.4444444444444444,\"#bd3786\"],[0.5555555555555556,\"#d8576b\"],[0.6666666666666666,\"#ed7953\"],[0.7777777777777778,\"#fb9f3a\"],[0.8888888888888888,\"#fdca26\"],[1.0,\"#f0f921\"]]}],\"mesh3d\":[{\"type\":\"mesh3d\",\"colorbar\":{\"outlinewidth\":0,\"ticks\":\"\"}}],\"scatter\":[{\"fillpattern\":{\"fillmode\":\"overlay\",\"size\":10,\"solidity\":0.2},\"type\":\"scatter\"}],\"parcoords\":[{\"type\":\"parcoords\",\"line\":{\"colorbar\":{\"outlinewidth\":0,\"ticks\":\"\"}}}],\"scatterpolargl\":[{\"type\":\"scatterpolargl\",\"marker\":{\"colorbar\":{\"outlinewidth\":0,\"ticks\":\"\"}}}],\"bar\":[{\"error_x\":{\"color\":\"#2a3f5f\"},\"error_y\":{\"color\":\"#2a3f5f\"},\"marker\":{\"line\":{\"color\":\"#E5ECF6\",\"width\":0.5},\"pattern\":{\"fillmode\":\"overlay\",\"size\":10,\"solidity\":0.2}},\"type\":\"bar\"}],\"scattergeo\":[{\"type\":\"scattergeo\",\"marker\":{\"colorbar\":{\"outlinewidth\":0,\"ticks\":\"\"}}}],\"scatterpolar\":[{\"type\":\"scatterpolar\",\"marker\":{\"colorbar\":{\"outlinewidth\":0,\"ticks\":\"\"}}}],\"histogram\":[{\"marker\":{\"pattern\":{\"fillmode\":\"overlay\",\"size\":10,\"solidity\":0.2}},\"type\":\"histogram\"}],\"scattergl\":[{\"type\":\"scattergl\",\"marker\":{\"colorbar\":{\"outlinewidth\":0,\"ticks\":\"\"}}}],\"scatter3d\":[{\"type\":\"scatter3d\",\"line\":{\"colorbar\":{\"outlinewidth\":0,\"ticks\":\"\"}},\"marker\":{\"colorbar\":{\"outlinewidth\":0,\"ticks\":\"\"}}}],\"scattermapbox\":[{\"type\":\"scattermapbox\",\"marker\":{\"colorbar\":{\"outlinewidth\":0,\"ticks\":\"\"}}}],\"scatterternary\":[{\"type\":\"scatterternary\",\"marker\":{\"colorbar\":{\"outlinewidth\":0,\"ticks\":\"\"}}}],\"scattercarpet\":[{\"type\":\"scattercarpet\",\"marker\":{\"colorbar\":{\"outlinewidth\":0,\"ticks\":\"\"}}}],\"carpet\":[{\"aaxis\":{\"endlinecolor\":\"#2a3f5f\",\"gridcolor\":\"white\",\"linecolor\":\"white\",\"minorgridcolor\":\"white\",\"startlinecolor\":\"#2a3f5f\"},\"baxis\":{\"endlinecolor\":\"#2a3f5f\",\"gridcolor\":\"white\",\"linecolor\":\"white\",\"minorgridcolor\":\"white\",\"startlinecolor\":\"#2a3f5f\"},\"type\":\"carpet\"}],\"table\":[{\"cells\":{\"fill\":{\"color\":\"#EBF0F8\"},\"line\":{\"color\":\"white\"}},\"header\":{\"fill\":{\"color\":\"#C8D4E3\"},\"line\":{\"color\":\"white\"}},\"type\":\"table\"}],\"barpolar\":[{\"marker\":{\"line\":{\"color\":\"#E5ECF6\",\"width\":0.5},\"pattern\":{\"fillmode\":\"overlay\",\"size\":10,\"solidity\":0.2}},\"type\":\"barpolar\"}],\"pie\":[{\"automargin\":true,\"type\":\"pie\"}]},\"layout\":{\"autotypenumbers\":\"strict\",\"colorway\":[\"#636efa\",\"#EF553B\",\"#00cc96\",\"#ab63fa\",\"#FFA15A\",\"#19d3f3\",\"#FF6692\",\"#B6E880\",\"#FF97FF\",\"#FECB52\"],\"font\":{\"color\":\"#2a3f5f\"},\"hovermode\":\"closest\",\"hoverlabel\":{\"align\":\"left\"},\"paper_bgcolor\":\"white\",\"plot_bgcolor\":\"#E5ECF6\",\"polar\":{\"bgcolor\":\"#E5ECF6\",\"angularaxis\":{\"gridcolor\":\"white\",\"linecolor\":\"white\",\"ticks\":\"\"},\"radialaxis\":{\"gridcolor\":\"white\",\"linecolor\":\"white\",\"ticks\":\"\"}},\"ternary\":{\"bgcolor\":\"#E5ECF6\",\"aaxis\":{\"gridcolor\":\"white\",\"linecolor\":\"white\",\"ticks\":\"\"},\"baxis\":{\"gridcolor\":\"white\",\"linecolor\":\"white\",\"ticks\":\"\"},\"caxis\":{\"gridcolor\":\"white\",\"linecolor\":\"white\",\"ticks\":\"\"}},\"coloraxis\":{\"colorbar\":{\"outlinewidth\":0,\"ticks\":\"\"}},\"colorscale\":{\"sequential\":[[0.0,\"#0d0887\"],[0.1111111111111111,\"#46039f\"],[0.2222222222222222,\"#7201a8\"],[0.3333333333333333,\"#9c179e\"],[0.4444444444444444,\"#bd3786\"],[0.5555555555555556,\"#d8576b\"],[0.6666666666666666,\"#ed7953\"],[0.7777777777777778,\"#fb9f3a\"],[0.8888888888888888,\"#fdca26\"],[1.0,\"#f0f921\"]],\"sequentialminus\":[[0.0,\"#0d0887\"],[0.1111111111111111,\"#46039f\"],[0.2222222222222222,\"#7201a8\"],[0.3333333333333333,\"#9c179e\"],[0.4444444444444444,\"#bd3786\"],[0.5555555555555556,\"#d8576b\"],[0.6666666666666666,\"#ed7953\"],[0.7777777777777778,\"#fb9f3a\"],[0.8888888888888888,\"#fdca26\"],[1.0,\"#f0f921\"]],\"diverging\":[[0,\"#8e0152\"],[0.1,\"#c51b7d\"],[0.2,\"#de77ae\"],[0.3,\"#f1b6da\"],[0.4,\"#fde0ef\"],[0.5,\"#f7f7f7\"],[0.6,\"#e6f5d0\"],[0.7,\"#b8e186\"],[0.8,\"#7fbc41\"],[0.9,\"#4d9221\"],[1,\"#276419\"]]},\"xaxis\":{\"gridcolor\":\"white\",\"linecolor\":\"white\",\"ticks\":\"\",\"title\":{\"standoff\":15},\"zerolinecolor\":\"white\",\"automargin\":true,\"zerolinewidth\":2},\"yaxis\":{\"gridcolor\":\"white\",\"linecolor\":\"white\",\"ticks\":\"\",\"title\":{\"standoff\":15},\"zerolinecolor\":\"white\",\"automargin\":true,\"zerolinewidth\":2},\"scene\":{\"xaxis\":{\"backgroundcolor\":\"#E5ECF6\",\"gridcolor\":\"white\",\"linecolor\":\"white\",\"showbackground\":true,\"ticks\":\"\",\"zerolinecolor\":\"white\",\"gridwidth\":2},\"yaxis\":{\"backgroundcolor\":\"#E5ECF6\",\"gridcolor\":\"white\",\"linecolor\":\"white\",\"showbackground\":true,\"ticks\":\"\",\"zerolinecolor\":\"white\",\"gridwidth\":2},\"zaxis\":{\"backgroundcolor\":\"#E5ECF6\",\"gridcolor\":\"white\",\"linecolor\":\"white\",\"showbackground\":true,\"ticks\":\"\",\"zerolinecolor\":\"white\",\"gridwidth\":2}},\"shapedefaults\":{\"line\":{\"color\":\"#2a3f5f\"}},\"annotationdefaults\":{\"arrowcolor\":\"#2a3f5f\",\"arrowhead\":0,\"arrowwidth\":1},\"geo\":{\"bgcolor\":\"white\",\"landcolor\":\"#E5ECF6\",\"subunitcolor\":\"white\",\"showland\":true,\"showlakes\":true,\"lakecolor\":\"white\"},\"title\":{\"x\":0.05},\"mapbox\":{\"style\":\"light\"}}},\"xaxis\":{\"anchor\":\"y\",\"domain\":[0.0,1.0],\"title\":{\"text\":\"Support\"}},\"yaxis\":{\"anchor\":\"x\",\"domain\":[0.0,1.0],\"title\":{\"text\":\"Confidence\"}},\"coloraxis\":{\"colorbar\":{\"title\":{\"text\":\"Lift\"}},\"colorscale\":[[0.0,\"rgb(75, 41, 145)\"],[0.16666666666666666,\"rgb(135, 44, 162)\"],[0.3333333333333333,\"rgb(192, 54, 157)\"],[0.5,\"rgb(234, 79, 136)\"],[0.6666666666666666,\"rgb(250, 120, 118)\"],[0.8333333333333334,\"rgb(246, 169, 122)\"],[1.0,\"rgb(237, 217, 163)\"]]},\"legend\":{\"tracegroupgap\":0},\"margin\":{\"t\":60}},                        {\"responsive\": true}                    ).then(function(){\n",
       "                            \n",
       "var gd = document.getElementById('ee9269b3-dfef-4014-8d64-b7f0c14e14b4');\n",
       "var x = new MutationObserver(function (mutations, observer) {{\n",
       "        var display = window.getComputedStyle(gd).display;\n",
       "        if (!display || display === 'none') {{\n",
       "            console.log([gd, 'removed!']);\n",
       "            Plotly.purge(gd);\n",
       "            observer.disconnect();\n",
       "        }}\n",
       "}});\n",
       "\n",
       "// Listen for the removal of the full notebook cells\n",
       "var notebookContainer = gd.closest('#notebook-container');\n",
       "if (notebookContainer) {{\n",
       "    x.observe(notebookContainer, {childList: true});\n",
       "}}\n",
       "\n",
       "// Listen for the clearing of the current output cell\n",
       "var outputEl = gd.closest('.output');\n",
       "if (outputEl) {{\n",
       "    x.observe(outputEl, {childList: true});\n",
       "}}\n",
       "\n",
       "                        })                };                });            </script>        </div>"
      ]
     },
     "metadata": {},
     "output_type": "display_data"
    }
   ],
   "source": [
    "import plotly.express as px\n",
    "\n",
    "rules_scatter_chart = px.scatter(extracted_titanicData_Rules, \n",
    "                                 x = 'Support', \n",
    "                                 y = 'Confidence', \n",
    "                                 color = 'Lift',\n",
    "                                 color_continuous_scale= \"agsunset\",\n",
    "                                 hover_data = ['Antecedent', 'Consequent']\n",
    "                                )\n",
    "\n",
    "rules_scatter_chart.show()"
   ]
  },
  {
   "cell_type": "code",
   "execution_count": 20,
   "id": "bd838e30",
   "metadata": {},
   "outputs": [
    {
     "data": {
      "text/html": [
       "<div>\n",
       "<style scoped>\n",
       "    .dataframe tbody tr th:only-of-type {\n",
       "        vertical-align: middle;\n",
       "    }\n",
       "\n",
       "    .dataframe tbody tr th {\n",
       "        vertical-align: top;\n",
       "    }\n",
       "\n",
       "    .dataframe thead th {\n",
       "        text-align: right;\n",
       "    }\n",
       "</style>\n",
       "<table border=\"1\" class=\"dataframe\">\n",
       "  <thead>\n",
       "    <tr style=\"text-align: right;\">\n",
       "      <th></th>\n",
       "      <th>Antecedent</th>\n",
       "      <th>Consequent</th>\n",
       "      <th>Support</th>\n",
       "      <th>Confidence</th>\n",
       "      <th>Lift</th>\n",
       "    </tr>\n",
       "  </thead>\n",
       "  <tbody>\n",
       "    <tr>\n",
       "      <th>12</th>\n",
       "      <td>[Sex_Female]</td>\n",
       "      <td>[Survived]</td>\n",
       "      <td>0.156293</td>\n",
       "      <td>0.731915</td>\n",
       "      <td>2.265745</td>\n",
       "    </tr>\n",
       "    <tr>\n",
       "      <th>17</th>\n",
       "      <td>[Sex_Female]</td>\n",
       "      <td>[Survived, Age_Adult]</td>\n",
       "      <td>0.143571</td>\n",
       "      <td>0.672340</td>\n",
       "      <td>2.262724</td>\n",
       "    </tr>\n",
       "    <tr>\n",
       "      <th>18</th>\n",
       "      <td>[Sex_Female, Age_Adult]</td>\n",
       "      <td>[Survived]</td>\n",
       "      <td>0.143571</td>\n",
       "      <td>0.743529</td>\n",
       "      <td>2.301699</td>\n",
       "    </tr>\n",
       "  </tbody>\n",
       "</table>\n",
       "</div>"
      ],
      "text/plain": [
       "                 Antecedent             Consequent   Support  Confidence  \\\n",
       "12             [Sex_Female]             [Survived]  0.156293    0.731915   \n",
       "17             [Sex_Female]  [Survived, Age_Adult]  0.143571    0.672340   \n",
       "18  [Sex_Female, Age_Adult]             [Survived]  0.143571    0.743529   \n",
       "\n",
       "        Lift  \n",
       "12  2.265745  \n",
       "17  2.262724  \n",
       "18  2.301699  "
      ]
     },
     "execution_count": 20,
     "metadata": {},
     "output_type": "execute_result"
    }
   ],
   "source": [
    "#Filter on rules with 'Survived' as consequent\n",
    "extracted_titanicData_Rules[extracted_titanicData_Rules['Consequent'].apply(lambda x: 'Survived' in x)]"
   ]
  },
  {
   "cell_type": "markdown",
   "id": "6cdab180",
   "metadata": {},
   "source": [
    "Three Associative rules were filtered out to show relationships between passengers that survived the wreck and specific attributes. Hence, displaying for possible 'Antecedents' for the 'Survival' Consequent."
   ]
  },
  {
   "cell_type": "markdown",
   "id": "c0537d56",
   "metadata": {},
   "source": [
    "Each of these rules can be seen to be Interesting rules as they have positively correlated Lift values i.e. Lifts > 1."
   ]
  },
  {
   "cell_type": "markdown",
   "id": "ff4d1264",
   "metadata": {},
   "source": [
    "It can be inferred that if a Passenger were female then they had a high chance of surviving the wreck as well as the survived female being a adult female.  Also, If a passenger was a Adult female then they had a high chance of surviving the Ship Wreck."
   ]
  },
  {
   "cell_type": "markdown",
   "id": "51144ec8",
   "metadata": {},
   "source": [
    "This insight can be related to the fact that during the Wreck, Women and Children were treated with high priority and were most likely evacuated first. \n",
    "However, the rules do not indicate any strong relationship with children, female nor male. This can be the effect of factors such as inept survival skills or instinct in kids, detachment from parents and guardians during the turmoil and Children being less resistant to the adverse conditions during the Wreck such as the cold. "
   ]
  },
  {
   "cell_type": "markdown",
   "id": "ad6bd991",
   "metadata": {},
   "source": [
    "The three rules above corrobate these obvious insights and do not provide any new insights. Hence, they are Trivial Rules. Actionable Rules and Inexplicable Rules were not spotted among the Three Associative Rules.  "
   ]
  }
 ],
 "metadata": {
  "kernelspec": {
   "display_name": "Python 3 (ipykernel)",
   "language": "python",
   "name": "python3"
  },
  "language_info": {
   "codemirror_mode": {
    "name": "ipython",
    "version": 3
   },
   "file_extension": ".py",
   "mimetype": "text/x-python",
   "name": "python",
   "nbconvert_exporter": "python",
   "pygments_lexer": "ipython3",
   "version": "3.9.12"
  }
 },
 "nbformat": 4,
 "nbformat_minor": 5
}
